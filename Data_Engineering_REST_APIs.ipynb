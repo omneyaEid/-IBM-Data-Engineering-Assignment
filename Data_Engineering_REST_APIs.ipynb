{
  "nbformat": 4,
  "nbformat_minor": 0,
  "metadata": {
    "colab": {
      "provenance": []
    },
    "kernelspec": {
      "name": "python3",
      "display_name": "Python 3"
    },
    "language_info": {
      "name": "python"
    }
  },
  "cells": [
    {
      "cell_type": "code",
      "execution_count": null,
      "metadata": {
        "id": "xQ5mr5J8dehZ"
      },
      "outputs": [],
      "source": [
        "!pip install pycoingecko\n",
        "!pip install plotly\n",
        "!pip install mplfinance\n",
        "!pip install --upgrade nbformat"
      ]
    },
    {
      "cell_type": "code",
      "source": [
        "import pandas as pd\n",
        "import numpy as np\n",
        "import plotly.graph_objects as go\n",
        "from plotly.offline import plot\n",
        "import matplotlib.pyplot as plt\n",
        "import datetime\n",
        "from pycoingecko import CoinGeckoAPI\n",
        "from mplfinance.original_flavor import candlestick2_ohlc"
      ],
      "metadata": {
        "id": "5R38nOmbejw3"
      },
      "execution_count": null,
      "outputs": []
    },
    {
      "cell_type": "code",
      "source": [
        "dict_={'a':[11,21,31],'b':[12,22,32]}"
      ],
      "metadata": {
        "id": "24Z0XH_meq02"
      },
      "execution_count": null,
      "outputs": []
    },
    {
      "cell_type": "code",
      "source": [
        "df=pd.DataFrame(dict_)\n",
        "print(df)\n",
        "type(df)"
      ],
      "metadata": {
        "colab": {
          "base_uri": "https://localhost:8080/"
        },
        "id": "h0hQS9cijuog",
        "outputId": "94612a6b-d459-443e-bb2f-4c050ee6c980"
      },
      "execution_count": null,
      "outputs": [
        {
          "output_type": "stream",
          "name": "stdout",
          "text": [
            "    a   b\n",
            "0  11  12\n",
            "1  21  22\n",
            "2  31  32\n"
          ]
        },
        {
          "output_type": "execute_result",
          "data": {
            "text/plain": [
              "pandas.core.frame.DataFrame"
            ]
          },
          "metadata": {},
          "execution_count": 8
        }
      ]
    },
    {
      "cell_type": "code",
      "source": [
        "df.head()"
      ],
      "metadata": {
        "colab": {
          "base_uri": "https://localhost:8080/",
          "height": 143
        },
        "id": "kvAeRI2vj9mk",
        "outputId": "98b20b43-cc1b-4870-e75d-6cad9f24311c"
      },
      "execution_count": null,
      "outputs": [
        {
          "output_type": "execute_result",
          "data": {
            "text/plain": [
              "    a   b\n",
              "0  11  12\n",
              "1  21  22\n",
              "2  31  32"
            ],
            "text/html": [
              "\n",
              "  <div id=\"df-9aec5c96-6459-4ccd-81ba-a4bb16aef520\">\n",
              "    <div class=\"colab-df-container\">\n",
              "      <div>\n",
              "<style scoped>\n",
              "    .dataframe tbody tr th:only-of-type {\n",
              "        vertical-align: middle;\n",
              "    }\n",
              "\n",
              "    .dataframe tbody tr th {\n",
              "        vertical-align: top;\n",
              "    }\n",
              "\n",
              "    .dataframe thead th {\n",
              "        text-align: right;\n",
              "    }\n",
              "</style>\n",
              "<table border=\"1\" class=\"dataframe\">\n",
              "  <thead>\n",
              "    <tr style=\"text-align: right;\">\n",
              "      <th></th>\n",
              "      <th>a</th>\n",
              "      <th>b</th>\n",
              "    </tr>\n",
              "  </thead>\n",
              "  <tbody>\n",
              "    <tr>\n",
              "      <th>0</th>\n",
              "      <td>11</td>\n",
              "      <td>12</td>\n",
              "    </tr>\n",
              "    <tr>\n",
              "      <th>1</th>\n",
              "      <td>21</td>\n",
              "      <td>22</td>\n",
              "    </tr>\n",
              "    <tr>\n",
              "      <th>2</th>\n",
              "      <td>31</td>\n",
              "      <td>32</td>\n",
              "    </tr>\n",
              "  </tbody>\n",
              "</table>\n",
              "</div>\n",
              "      <button class=\"colab-df-convert\" onclick=\"convertToInteractive('df-9aec5c96-6459-4ccd-81ba-a4bb16aef520')\"\n",
              "              title=\"Convert this dataframe to an interactive table.\"\n",
              "              style=\"display:none;\">\n",
              "        \n",
              "  <svg xmlns=\"http://www.w3.org/2000/svg\" height=\"24px\"viewBox=\"0 0 24 24\"\n",
              "       width=\"24px\">\n",
              "    <path d=\"M0 0h24v24H0V0z\" fill=\"none\"/>\n",
              "    <path d=\"M18.56 5.44l.94 2.06.94-2.06 2.06-.94-2.06-.94-.94-2.06-.94 2.06-2.06.94zm-11 1L8.5 8.5l.94-2.06 2.06-.94-2.06-.94L8.5 2.5l-.94 2.06-2.06.94zm10 10l.94 2.06.94-2.06 2.06-.94-2.06-.94-.94-2.06-.94 2.06-2.06.94z\"/><path d=\"M17.41 7.96l-1.37-1.37c-.4-.4-.92-.59-1.43-.59-.52 0-1.04.2-1.43.59L10.3 9.45l-7.72 7.72c-.78.78-.78 2.05 0 2.83L4 21.41c.39.39.9.59 1.41.59.51 0 1.02-.2 1.41-.59l7.78-7.78 2.81-2.81c.8-.78.8-2.07 0-2.86zM5.41 20L4 18.59l7.72-7.72 1.47 1.35L5.41 20z\"/>\n",
              "  </svg>\n",
              "      </button>\n",
              "      \n",
              "  <style>\n",
              "    .colab-df-container {\n",
              "      display:flex;\n",
              "      flex-wrap:wrap;\n",
              "      gap: 12px;\n",
              "    }\n",
              "\n",
              "    .colab-df-convert {\n",
              "      background-color: #E8F0FE;\n",
              "      border: none;\n",
              "      border-radius: 50%;\n",
              "      cursor: pointer;\n",
              "      display: none;\n",
              "      fill: #1967D2;\n",
              "      height: 32px;\n",
              "      padding: 0 0 0 0;\n",
              "      width: 32px;\n",
              "    }\n",
              "\n",
              "    .colab-df-convert:hover {\n",
              "      background-color: #E2EBFA;\n",
              "      box-shadow: 0px 1px 2px rgba(60, 64, 67, 0.3), 0px 1px 3px 1px rgba(60, 64, 67, 0.15);\n",
              "      fill: #174EA6;\n",
              "    }\n",
              "\n",
              "    [theme=dark] .colab-df-convert {\n",
              "      background-color: #3B4455;\n",
              "      fill: #D2E3FC;\n",
              "    }\n",
              "\n",
              "    [theme=dark] .colab-df-convert:hover {\n",
              "      background-color: #434B5C;\n",
              "      box-shadow: 0px 1px 3px 1px rgba(0, 0, 0, 0.15);\n",
              "      filter: drop-shadow(0px 1px 2px rgba(0, 0, 0, 0.3));\n",
              "      fill: #FFFFFF;\n",
              "    }\n",
              "  </style>\n",
              "\n",
              "      <script>\n",
              "        const buttonEl =\n",
              "          document.querySelector('#df-9aec5c96-6459-4ccd-81ba-a4bb16aef520 button.colab-df-convert');\n",
              "        buttonEl.style.display =\n",
              "          google.colab.kernel.accessAllowed ? 'block' : 'none';\n",
              "\n",
              "        async function convertToInteractive(key) {\n",
              "          const element = document.querySelector('#df-9aec5c96-6459-4ccd-81ba-a4bb16aef520');\n",
              "          const dataTable =\n",
              "            await google.colab.kernel.invokeFunction('convertToInteractive',\n",
              "                                                     [key], {});\n",
              "          if (!dataTable) return;\n",
              "\n",
              "          const docLinkHtml = 'Like what you see? Visit the ' +\n",
              "            '<a target=\"_blank\" href=https://colab.research.google.com/notebooks/data_table.ipynb>data table notebook</a>'\n",
              "            + ' to learn more about interactive tables.';\n",
              "          element.innerHTML = '';\n",
              "          dataTable['output_type'] = 'display_data';\n",
              "          await google.colab.output.renderOutput(dataTable, element);\n",
              "          const docLink = document.createElement('div');\n",
              "          docLink.innerHTML = docLinkHtml;\n",
              "          element.appendChild(docLink);\n",
              "        }\n",
              "      </script>\n",
              "    </div>\n",
              "  </div>\n",
              "  "
            ]
          },
          "metadata": {},
          "execution_count": 9
        }
      ]
    },
    {
      "cell_type": "code",
      "source": [
        "df.mean()"
      ],
      "metadata": {
        "colab": {
          "base_uri": "https://localhost:8080/"
        },
        "id": "nOLs98HMkC56",
        "outputId": "b86ba7e2-3d14-4a12-8fdb-78ac5e489e8d"
      },
      "execution_count": null,
      "outputs": [
        {
          "output_type": "execute_result",
          "data": {
            "text/plain": [
              "a    21.0\n",
              "b    22.0\n",
              "dtype: float64"
            ]
          },
          "metadata": {},
          "execution_count": 10
        }
      ]
    },
    {
      "cell_type": "code",
      "source": [
        "cg = CoinGeckoAPI()\n",
        "\n",
        "bitcoin_data = cg.get_coin_market_chart_by_id(id='bitcoin', vs_currency='usd', days=30)"
      ],
      "metadata": {
        "id": "-hhWfgv-kOeT"
      },
      "execution_count": null,
      "outputs": []
    },
    {
      "cell_type": "code",
      "source": [
        "type(bitcoin_data )"
      ],
      "metadata": {
        "colab": {
          "base_uri": "https://localhost:8080/"
        },
        "id": "xYO4mlC1lH2e",
        "outputId": "39efdb63-1d84-439c-8bd4-d0c01a3868dc"
      },
      "execution_count": null,
      "outputs": [
        {
          "output_type": "execute_result",
          "data": {
            "text/plain": [
              "dict"
            ]
          },
          "metadata": {},
          "execution_count": 14
        }
      ]
    },
    {
      "cell_type": "code",
      "source": [
        "bitcoin_price_data = bitcoin_data['prices']\n",
        "\n",
        "bitcoin_price_data[0:5]"
      ],
      "metadata": {
        "colab": {
          "base_uri": "https://localhost:8080/"
        },
        "id": "sqZ8NLe1lJJ2",
        "outputId": "2a91e63c-c23d-4b96-de56-60746b915da3"
      },
      "execution_count": null,
      "outputs": [
        {
          "output_type": "execute_result",
          "data": {
            "text/plain": [
              "[[1669971706978, 16981.45239770451],\n",
              " [1669975232308, 16993.80115471984],\n",
              " [1669978916944, 17022.025662866505],\n",
              " [1669982402689, 17017.112935036814],\n",
              " [1669986006331, 17033.747473205276]]"
            ]
          },
          "metadata": {},
          "execution_count": 15
        }
      ]
    },
    {
      "cell_type": "code",
      "source": [
        "data = pd.DataFrame(bitcoin_price_data, columns=['TimeStamp', 'Price'])"
      ],
      "metadata": {
        "id": "RZ_Hz6DRlPm0"
      },
      "execution_count": null,
      "outputs": []
    },
    {
      "cell_type": "markdown",
      "source": [
        "Now that we have the DataFrame we will convert the timestamp to datetime and save it as a column called Date. We will map our unix_to_datetime to each timestamp and convert it to a readable datetime.\n",
        "\n",
        "\n"
      ],
      "metadata": {
        "id": "AUzNYM4elfYX"
      }
    },
    {
      "cell_type": "code",
      "source": [
        "data['date'] = data['TimeStamp'].apply(lambda d: datetime.date.fromtimestamp(d/1000.0))"
      ],
      "metadata": {
        "id": "9nnZs8l2lT2V"
      },
      "execution_count": null,
      "outputs": []
    },
    {
      "cell_type": "markdown",
      "source": [
        "Using this modified dataset we can now group by the <code>Date</code> and find the min, max, open, and close for the candlesticks."
      ],
      "metadata": {
        "id": "TGmvcaCMl445"
      }
    },
    {
      "cell_type": "code",
      "source": [
        "candlestick_data = data.groupby(data.date, as_index=False).agg({\"Price\": ['min', 'max', 'first', 'last']})"
      ],
      "metadata": {
        "id": "-_XgRJQKlyGk"
      },
      "execution_count": null,
      "outputs": []
    },
    {
      "cell_type": "code",
      "source": [
        "fig = go.Figure(data=[go.Candlestick(x=candlestick_data['date'],\n",
        "                open=candlestick_data['Price']['first'], \n",
        "                high=candlestick_data['Price']['max'],\n",
        "                low=candlestick_data['Price']['min'], \n",
        "                close=candlestick_data['Price']['last'])\n",
        "                ])\n",
        "\n",
        "fig.update_layout(xaxis_rangeslider_visible=False)\n",
        "\n",
        "fig.show()"
      ],
      "metadata": {
        "colab": {
          "base_uri": "https://localhost:8080/",
          "height": 542
        },
        "id": "7G4MIeE4mAnM",
        "outputId": "1b6b6f8e-2831-48c4-e399-54608c97b687"
      },
      "execution_count": null,
      "outputs": [
        {
          "output_type": "display_data",
          "data": {
            "text/html": [
              "<html>\n",
              "<head><meta charset=\"utf-8\" /></head>\n",
              "<body>\n",
              "    <div>            <script src=\"https://cdnjs.cloudflare.com/ajax/libs/mathjax/2.7.5/MathJax.js?config=TeX-AMS-MML_SVG\"></script><script type=\"text/javascript\">if (window.MathJax) {MathJax.Hub.Config({SVG: {font: \"STIX-Web\"}});}</script>                <script type=\"text/javascript\">window.PlotlyConfig = {MathJaxConfig: 'local'};</script>\n",
              "        <script src=\"https://cdn.plot.ly/plotly-2.8.3.min.js\"></script>                <div id=\"3068fd48-7083-4844-bc64-415f7063d404\" class=\"plotly-graph-div\" style=\"height:525px; width:100%;\"></div>            <script type=\"text/javascript\">                                    window.PLOTLYENV=window.PLOTLYENV || {};                                    if (document.getElementById(\"3068fd48-7083-4844-bc64-415f7063d404\")) {                    Plotly.newPlot(                        \"3068fd48-7083-4844-bc64-415f7063d404\",                        [{\"close\":[17072.74210514936,16889.141270527234,17115.71613894933,16956.882519988492,16983.862389793616,16851.10352096307,17204.871666749237,17139.627300912573,17141.825152653182,17108.5710643845,17167.67245478578,17786.015294466444,17826.100927376596,17337.361803435062,16741.045696324552,16743.301540704586,16800.559333751997,16408.929915324115,16884.341762425352,16777.551794262235,16800.94753254382,16802.19013067553,16847.802247651052,16813.158456662797,16843.692990272582,16701.282354783896,16515.81732604738,16624.522841212893,16589.02338039684,16521.815520470438,16521.18495716831],\"high\":[17072.74210514936,17146.572922646876,17121.49073038419,17362.294935265112,17053.793721625203,17088.005860286976,17253.400910147215,17258.847909851593,17217.40693591455,17231.656730358165,17184.478048793702,17896.63794043742,18320.817235248396,17808.71617265881,17478.099781794448,16758.925191744926,16800.559333751997,16794.452547453122,16940.613225349385,16916.07097405973,16882.232875188733,16891.297302185394,16859.602706687205,16849.932721831166,16895.732317171107,16895.753539841488,16717.054805631637,16659.638927607673,16646.17046569817,16611.607871078406,16558.02684830619],\"low\":[16897.500491380804,16889.141270527234,16923.38287008033,16940.094705487634,16962.526726316668,16781.776625015926,16809.553779945796,17122.00860527727,17137.509115372413,17108.5710643845,16869.536538127886,17140.60548138368,17756.386568896087,17337.361803435062,16741.045696324552,16650.249618566282,16687.996635176445,16408.929915324115,16454.222445893378,16761.23557070878,16611.77055390211,16800.389952291305,16791.45543916491,16769.85904421313,16818.749629565693,16647.597013359973,16514.47114607418,16527.808755914626,16464.043978658698,16521.815520470438,16521.18495716831],\"open\":[16981.45239770451,17146.572922646876,16923.38287008033,17133.314036600437,16973.11921772874,17085.64314125141,16849.191359681357,17226.037048690152,17138.345164070735,17121.2582214872,17101.038019732932,17179.596038203494,17777.458744424264,17808.71617265881,17339.041306526968,16650.249618566282,16783.53340219785,16742.816663834055,16454.222445893378,16916.07097405973,16822.639889639624,16830.385066529358,16791.45543916491,16848.649159225337,16842.72026144195,16895.753539841488,16699.692138154038,16541.377134976698,16646.17046569817,16609.13431538681,16542.456148037014],\"x\":[\"2022-12-02\",\"2022-12-03\",\"2022-12-04\",\"2022-12-05\",\"2022-12-06\",\"2022-12-07\",\"2022-12-08\",\"2022-12-09\",\"2022-12-10\",\"2022-12-11\",\"2022-12-12\",\"2022-12-13\",\"2022-12-14\",\"2022-12-15\",\"2022-12-16\",\"2022-12-17\",\"2022-12-18\",\"2022-12-19\",\"2022-12-20\",\"2022-12-21\",\"2022-12-22\",\"2022-12-23\",\"2022-12-24\",\"2022-12-25\",\"2022-12-26\",\"2022-12-27\",\"2022-12-28\",\"2022-12-29\",\"2022-12-30\",\"2022-12-31\",\"2023-01-01\"],\"type\":\"candlestick\"}],                        {\"template\":{\"data\":{\"bar\":[{\"error_x\":{\"color\":\"#2a3f5f\"},\"error_y\":{\"color\":\"#2a3f5f\"},\"marker\":{\"line\":{\"color\":\"#E5ECF6\",\"width\":0.5},\"pattern\":{\"fillmode\":\"overlay\",\"size\":10,\"solidity\":0.2}},\"type\":\"bar\"}],\"barpolar\":[{\"marker\":{\"line\":{\"color\":\"#E5ECF6\",\"width\":0.5},\"pattern\":{\"fillmode\":\"overlay\",\"size\":10,\"solidity\":0.2}},\"type\":\"barpolar\"}],\"carpet\":[{\"aaxis\":{\"endlinecolor\":\"#2a3f5f\",\"gridcolor\":\"white\",\"linecolor\":\"white\",\"minorgridcolor\":\"white\",\"startlinecolor\":\"#2a3f5f\"},\"baxis\":{\"endlinecolor\":\"#2a3f5f\",\"gridcolor\":\"white\",\"linecolor\":\"white\",\"minorgridcolor\":\"white\",\"startlinecolor\":\"#2a3f5f\"},\"type\":\"carpet\"}],\"choropleth\":[{\"colorbar\":{\"outlinewidth\":0,\"ticks\":\"\"},\"type\":\"choropleth\"}],\"contour\":[{\"colorbar\":{\"outlinewidth\":0,\"ticks\":\"\"},\"colorscale\":[[0.0,\"#0d0887\"],[0.1111111111111111,\"#46039f\"],[0.2222222222222222,\"#7201a8\"],[0.3333333333333333,\"#9c179e\"],[0.4444444444444444,\"#bd3786\"],[0.5555555555555556,\"#d8576b\"],[0.6666666666666666,\"#ed7953\"],[0.7777777777777778,\"#fb9f3a\"],[0.8888888888888888,\"#fdca26\"],[1.0,\"#f0f921\"]],\"type\":\"contour\"}],\"contourcarpet\":[{\"colorbar\":{\"outlinewidth\":0,\"ticks\":\"\"},\"type\":\"contourcarpet\"}],\"heatmap\":[{\"colorbar\":{\"outlinewidth\":0,\"ticks\":\"\"},\"colorscale\":[[0.0,\"#0d0887\"],[0.1111111111111111,\"#46039f\"],[0.2222222222222222,\"#7201a8\"],[0.3333333333333333,\"#9c179e\"],[0.4444444444444444,\"#bd3786\"],[0.5555555555555556,\"#d8576b\"],[0.6666666666666666,\"#ed7953\"],[0.7777777777777778,\"#fb9f3a\"],[0.8888888888888888,\"#fdca26\"],[1.0,\"#f0f921\"]],\"type\":\"heatmap\"}],\"heatmapgl\":[{\"colorbar\":{\"outlinewidth\":0,\"ticks\":\"\"},\"colorscale\":[[0.0,\"#0d0887\"],[0.1111111111111111,\"#46039f\"],[0.2222222222222222,\"#7201a8\"],[0.3333333333333333,\"#9c179e\"],[0.4444444444444444,\"#bd3786\"],[0.5555555555555556,\"#d8576b\"],[0.6666666666666666,\"#ed7953\"],[0.7777777777777778,\"#fb9f3a\"],[0.8888888888888888,\"#fdca26\"],[1.0,\"#f0f921\"]],\"type\":\"heatmapgl\"}],\"histogram\":[{\"marker\":{\"pattern\":{\"fillmode\":\"overlay\",\"size\":10,\"solidity\":0.2}},\"type\":\"histogram\"}],\"histogram2d\":[{\"colorbar\":{\"outlinewidth\":0,\"ticks\":\"\"},\"colorscale\":[[0.0,\"#0d0887\"],[0.1111111111111111,\"#46039f\"],[0.2222222222222222,\"#7201a8\"],[0.3333333333333333,\"#9c179e\"],[0.4444444444444444,\"#bd3786\"],[0.5555555555555556,\"#d8576b\"],[0.6666666666666666,\"#ed7953\"],[0.7777777777777778,\"#fb9f3a\"],[0.8888888888888888,\"#fdca26\"],[1.0,\"#f0f921\"]],\"type\":\"histogram2d\"}],\"histogram2dcontour\":[{\"colorbar\":{\"outlinewidth\":0,\"ticks\":\"\"},\"colorscale\":[[0.0,\"#0d0887\"],[0.1111111111111111,\"#46039f\"],[0.2222222222222222,\"#7201a8\"],[0.3333333333333333,\"#9c179e\"],[0.4444444444444444,\"#bd3786\"],[0.5555555555555556,\"#d8576b\"],[0.6666666666666666,\"#ed7953\"],[0.7777777777777778,\"#fb9f3a\"],[0.8888888888888888,\"#fdca26\"],[1.0,\"#f0f921\"]],\"type\":\"histogram2dcontour\"}],\"mesh3d\":[{\"colorbar\":{\"outlinewidth\":0,\"ticks\":\"\"},\"type\":\"mesh3d\"}],\"parcoords\":[{\"line\":{\"colorbar\":{\"outlinewidth\":0,\"ticks\":\"\"}},\"type\":\"parcoords\"}],\"pie\":[{\"automargin\":true,\"type\":\"pie\"}],\"scatter\":[{\"marker\":{\"colorbar\":{\"outlinewidth\":0,\"ticks\":\"\"}},\"type\":\"scatter\"}],\"scatter3d\":[{\"line\":{\"colorbar\":{\"outlinewidth\":0,\"ticks\":\"\"}},\"marker\":{\"colorbar\":{\"outlinewidth\":0,\"ticks\":\"\"}},\"type\":\"scatter3d\"}],\"scattercarpet\":[{\"marker\":{\"colorbar\":{\"outlinewidth\":0,\"ticks\":\"\"}},\"type\":\"scattercarpet\"}],\"scattergeo\":[{\"marker\":{\"colorbar\":{\"outlinewidth\":0,\"ticks\":\"\"}},\"type\":\"scattergeo\"}],\"scattergl\":[{\"marker\":{\"colorbar\":{\"outlinewidth\":0,\"ticks\":\"\"}},\"type\":\"scattergl\"}],\"scattermapbox\":[{\"marker\":{\"colorbar\":{\"outlinewidth\":0,\"ticks\":\"\"}},\"type\":\"scattermapbox\"}],\"scatterpolar\":[{\"marker\":{\"colorbar\":{\"outlinewidth\":0,\"ticks\":\"\"}},\"type\":\"scatterpolar\"}],\"scatterpolargl\":[{\"marker\":{\"colorbar\":{\"outlinewidth\":0,\"ticks\":\"\"}},\"type\":\"scatterpolargl\"}],\"scatterternary\":[{\"marker\":{\"colorbar\":{\"outlinewidth\":0,\"ticks\":\"\"}},\"type\":\"scatterternary\"}],\"surface\":[{\"colorbar\":{\"outlinewidth\":0,\"ticks\":\"\"},\"colorscale\":[[0.0,\"#0d0887\"],[0.1111111111111111,\"#46039f\"],[0.2222222222222222,\"#7201a8\"],[0.3333333333333333,\"#9c179e\"],[0.4444444444444444,\"#bd3786\"],[0.5555555555555556,\"#d8576b\"],[0.6666666666666666,\"#ed7953\"],[0.7777777777777778,\"#fb9f3a\"],[0.8888888888888888,\"#fdca26\"],[1.0,\"#f0f921\"]],\"type\":\"surface\"}],\"table\":[{\"cells\":{\"fill\":{\"color\":\"#EBF0F8\"},\"line\":{\"color\":\"white\"}},\"header\":{\"fill\":{\"color\":\"#C8D4E3\"},\"line\":{\"color\":\"white\"}},\"type\":\"table\"}]},\"layout\":{\"annotationdefaults\":{\"arrowcolor\":\"#2a3f5f\",\"arrowhead\":0,\"arrowwidth\":1},\"autotypenumbers\":\"strict\",\"coloraxis\":{\"colorbar\":{\"outlinewidth\":0,\"ticks\":\"\"}},\"colorscale\":{\"diverging\":[[0,\"#8e0152\"],[0.1,\"#c51b7d\"],[0.2,\"#de77ae\"],[0.3,\"#f1b6da\"],[0.4,\"#fde0ef\"],[0.5,\"#f7f7f7\"],[0.6,\"#e6f5d0\"],[0.7,\"#b8e186\"],[0.8,\"#7fbc41\"],[0.9,\"#4d9221\"],[1,\"#276419\"]],\"sequential\":[[0.0,\"#0d0887\"],[0.1111111111111111,\"#46039f\"],[0.2222222222222222,\"#7201a8\"],[0.3333333333333333,\"#9c179e\"],[0.4444444444444444,\"#bd3786\"],[0.5555555555555556,\"#d8576b\"],[0.6666666666666666,\"#ed7953\"],[0.7777777777777778,\"#fb9f3a\"],[0.8888888888888888,\"#fdca26\"],[1.0,\"#f0f921\"]],\"sequentialminus\":[[0.0,\"#0d0887\"],[0.1111111111111111,\"#46039f\"],[0.2222222222222222,\"#7201a8\"],[0.3333333333333333,\"#9c179e\"],[0.4444444444444444,\"#bd3786\"],[0.5555555555555556,\"#d8576b\"],[0.6666666666666666,\"#ed7953\"],[0.7777777777777778,\"#fb9f3a\"],[0.8888888888888888,\"#fdca26\"],[1.0,\"#f0f921\"]]},\"colorway\":[\"#636efa\",\"#EF553B\",\"#00cc96\",\"#ab63fa\",\"#FFA15A\",\"#19d3f3\",\"#FF6692\",\"#B6E880\",\"#FF97FF\",\"#FECB52\"],\"font\":{\"color\":\"#2a3f5f\"},\"geo\":{\"bgcolor\":\"white\",\"lakecolor\":\"white\",\"landcolor\":\"#E5ECF6\",\"showlakes\":true,\"showland\":true,\"subunitcolor\":\"white\"},\"hoverlabel\":{\"align\":\"left\"},\"hovermode\":\"closest\",\"mapbox\":{\"style\":\"light\"},\"paper_bgcolor\":\"white\",\"plot_bgcolor\":\"#E5ECF6\",\"polar\":{\"angularaxis\":{\"gridcolor\":\"white\",\"linecolor\":\"white\",\"ticks\":\"\"},\"bgcolor\":\"#E5ECF6\",\"radialaxis\":{\"gridcolor\":\"white\",\"linecolor\":\"white\",\"ticks\":\"\"}},\"scene\":{\"xaxis\":{\"backgroundcolor\":\"#E5ECF6\",\"gridcolor\":\"white\",\"gridwidth\":2,\"linecolor\":\"white\",\"showbackground\":true,\"ticks\":\"\",\"zerolinecolor\":\"white\"},\"yaxis\":{\"backgroundcolor\":\"#E5ECF6\",\"gridcolor\":\"white\",\"gridwidth\":2,\"linecolor\":\"white\",\"showbackground\":true,\"ticks\":\"\",\"zerolinecolor\":\"white\"},\"zaxis\":{\"backgroundcolor\":\"#E5ECF6\",\"gridcolor\":\"white\",\"gridwidth\":2,\"linecolor\":\"white\",\"showbackground\":true,\"ticks\":\"\",\"zerolinecolor\":\"white\"}},\"shapedefaults\":{\"line\":{\"color\":\"#2a3f5f\"}},\"ternary\":{\"aaxis\":{\"gridcolor\":\"white\",\"linecolor\":\"white\",\"ticks\":\"\"},\"baxis\":{\"gridcolor\":\"white\",\"linecolor\":\"white\",\"ticks\":\"\"},\"bgcolor\":\"#E5ECF6\",\"caxis\":{\"gridcolor\":\"white\",\"linecolor\":\"white\",\"ticks\":\"\"}},\"title\":{\"x\":0.05},\"xaxis\":{\"automargin\":true,\"gridcolor\":\"white\",\"linecolor\":\"white\",\"ticks\":\"\",\"title\":{\"standoff\":15},\"zerolinecolor\":\"white\",\"zerolinewidth\":2},\"yaxis\":{\"automargin\":true,\"gridcolor\":\"white\",\"linecolor\":\"white\",\"ticks\":\"\",\"title\":{\"standoff\":15},\"zerolinecolor\":\"white\",\"zerolinewidth\":2}}},\"xaxis\":{\"rangeslider\":{\"visible\":false}}},                        {\"responsive\": true}                    ).then(function(){\n",
              "                            \n",
              "var gd = document.getElementById('3068fd48-7083-4844-bc64-415f7063d404');\n",
              "var x = new MutationObserver(function (mutations, observer) {{\n",
              "        var display = window.getComputedStyle(gd).display;\n",
              "        if (!display || display === 'none') {{\n",
              "            console.log([gd, 'removed!']);\n",
              "            Plotly.purge(gd);\n",
              "            observer.disconnect();\n",
              "        }}\n",
              "}});\n",
              "\n",
              "// Listen for the removal of the full notebook cells\n",
              "var notebookContainer = gd.closest('#notebook-container');\n",
              "if (notebookContainer) {{\n",
              "    x.observe(notebookContainer, {childList: true});\n",
              "}}\n",
              "\n",
              "// Listen for the clearing of the current output cell\n",
              "var outputEl = gd.closest('.output');\n",
              "if (outputEl) {{\n",
              "    x.observe(outputEl, {childList: true});\n",
              "}}\n",
              "\n",
              "                        })                };                            </script>        </div>\n",
              "</body>\n",
              "</html>"
            ]
          },
          "metadata": {}
        }
      ]
    },
    {
      "cell_type": "markdown",
      "source": [
        " <h2 id=\"RP\">Requests in Python</h2>"
      ],
      "metadata": {
        "id": "kmLEY6y1t-Zg"
      }
    },
    {
      "cell_type": "code",
      "source": [
        "import requests"
      ],
      "metadata": {
        "id": "1O1pqFHEuiSg"
      },
      "execution_count": null,
      "outputs": []
    },
    {
      "cell_type": "code",
      "source": [
        "import os \n",
        "from PIL import Image\n",
        "from IPython.display import IFrame"
      ],
      "metadata": {
        "id": "HvZvpas9ul1q"
      },
      "execution_count": null,
      "outputs": []
    },
    {
      "cell_type": "code",
      "source": [
        "url='https://www.ibm.com/'\n",
        "r=requests.get(url)"
      ],
      "metadata": {
        "id": "zasHyOvEupmU"
      },
      "execution_count": null,
      "outputs": []
    },
    {
      "cell_type": "code",
      "source": [
        "r.status_code"
      ],
      "metadata": {
        "colab": {
          "base_uri": "https://localhost:8080/"
        },
        "id": "BHgSokxKuwF_",
        "outputId": "93cfa872-7d5a-4997-9c63-fd2e86436c3c"
      },
      "execution_count": null,
      "outputs": [
        {
          "output_type": "execute_result",
          "data": {
            "text/plain": [
              "200"
            ]
          },
          "metadata": {},
          "execution_count": 23
        }
      ]
    },
    {
      "cell_type": "code",
      "source": [
        "print(r.request.headers)"
      ],
      "metadata": {
        "colab": {
          "base_uri": "https://localhost:8080/"
        },
        "id": "8ynAuKz8u0V_",
        "outputId": "85cec3d2-15b0-49ab-ac26-58bc7d53396a"
      },
      "execution_count": null,
      "outputs": [
        {
          "output_type": "stream",
          "name": "stdout",
          "text": [
            "{'User-Agent': 'python-requests/2.23.0', 'Accept-Encoding': 'gzip, deflate', 'Accept': '*/*', 'Connection': 'keep-alive', 'Cookie': '_abck=24D5A9DFC7BE90656C6E0C1958AD6495~-1~YAAQSGgBF1xkyhGFAQAAkvC6bAlZWmUEH27SmFlF7HRugYJlxhha7ke/F3IVx0xlHWsI8l69W/x825mRf23jP6A5uq4UBNidfqY9XOuY0LfJSK03LAqVuDdTmY9VRkuHDbtnQ7WxpKzimBnmiWlWUPqe/NWUk0MlHpqjgbT7UZBdJbaqxA/QIarvtquGJR66zMLsrr91FN9/+orfKFG2/wjDv08Ihh1co3PH6WueUhmWL7SVodk+Zs3TxTmQhDlHGK0hmboiiExQpFUPlBVVYFj9a+2w076h8hwfiDvd0j/aYj79HU5JKgV1v1WQNYOScsXhbVP86AsIlE7YZqSZxBO0IsuaQjSOPzeffpQpL5vwKWHwqHc=~-1~-1~-1; bm_sz=F6606506ECF63B6C3C250437A00FF847~YAAQSGgBF11kyhGFAQAAkvC6bBKE0zrOWPI7BfNwAORp3/mouteXBkE51NPlQp5yLjKbtIZlEPHE/rjaI3bMMDpR8ORjf4fWz7XBVLrIkGYMrpMqK2sON0NBkXARuyHJdBuRX57olAAJlGPxh/aWQgUB5n1/fF7XnUgoWZfxwIejjiLSkTFYcGr0VWrucpHAaHr+2/5x86BuSedaM/yO0p9yrIapZ9wauBZils6KU4eDC4h3siP4RUb9XU3FEdofsLujDYRKnTLP7P4PGAdM05M32/67AnGHV0dqTDnXE/A=~3162928~3356980'}\n"
          ]
        }
      ]
    },
    {
      "cell_type": "code",
      "source": [
        "print(\"request body:\", r.request.body)"
      ],
      "metadata": {
        "colab": {
          "base_uri": "https://localhost:8080/"
        },
        "id": "pVaEVjZAu4m5",
        "outputId": "965c46c9-2024-4a90-efc9-dd74ce3bd0f9"
      },
      "execution_count": null,
      "outputs": [
        {
          "output_type": "stream",
          "name": "stdout",
          "text": [
            "request body: None\n"
          ]
        }
      ]
    },
    {
      "cell_type": "code",
      "source": [
        "header=r.headers\n",
        "print(r.headers)"
      ],
      "metadata": {
        "colab": {
          "base_uri": "https://localhost:8080/"
        },
        "id": "IWii2aQ8u84n",
        "outputId": "4e9e9fb9-1438-4da3-9c9f-d1b4c3a36c03"
      },
      "execution_count": null,
      "outputs": [
        {
          "output_type": "stream",
          "name": "stdout",
          "text": [
            "{'Server': 'Apache', 'Last-Modified': 'Tue, 20 Dec 2022 21:02:25 GMT', 'ETag': '\"125ee-5f048c0b7dc8b-gzip\"', 'Accept-Ranges': 'bytes', 'Content-Type': 'text/html', 'Cache-Control': 'max-age=3600', 'Expires': 'Sun, 01 Jan 2023 10:47:48 GMT', 'X-Akamai-Transformed': '9 16328 0 pmb=mTOE,2', 'Content-Encoding': 'gzip', 'Date': 'Sun, 01 Jan 2023 09:47:48 GMT', 'Content-Length': '16502', 'Connection': 'keep-alive', 'Vary': 'Accept-Encoding', 'x-content-type-options': 'nosniff', 'X-XSS-Protection': '1; mode=block', 'Content-Security-Policy': 'upgrade-insecure-requests', 'Strict-Transport-Security': 'max-age=31536000'}\n"
          ]
        }
      ]
    },
    {
      "cell_type": "code",
      "source": [
        "header['date']"
      ],
      "metadata": {
        "colab": {
          "base_uri": "https://localhost:8080/",
          "height": 35
        },
        "id": "gn88pmq6vCY8",
        "outputId": "671aed23-1e93-46d7-ebd5-c8f68472bd8b"
      },
      "execution_count": null,
      "outputs": [
        {
          "output_type": "execute_result",
          "data": {
            "text/plain": [
              "'Sun, 01 Jan 2023 09:47:48 GMT'"
            ],
            "application/vnd.google.colaboratory.intrinsic+json": {
              "type": "string"
            }
          },
          "metadata": {},
          "execution_count": 27
        }
      ]
    },
    {
      "cell_type": "code",
      "source": [
        "header['Content-Type']"
      ],
      "metadata": {
        "colab": {
          "base_uri": "https://localhost:8080/",
          "height": 35
        },
        "id": "R3Ct9fSlvHjW",
        "outputId": "1caf4729-ab8a-4ca1-e1a6-b56ac31e20a2"
      },
      "execution_count": null,
      "outputs": [
        {
          "output_type": "execute_result",
          "data": {
            "text/plain": [
              "'text/html'"
            ],
            "application/vnd.google.colaboratory.intrinsic+json": {
              "type": "string"
            }
          },
          "metadata": {},
          "execution_count": 28
        }
      ]
    },
    {
      "cell_type": "code",
      "source": [
        " r.encoding"
      ],
      "metadata": {
        "colab": {
          "base_uri": "https://localhost:8080/",
          "height": 35
        },
        "id": "Qk5Lt1m3vLJa",
        "outputId": "1b790485-9704-4a1d-d337-10d403d99fab"
      },
      "execution_count": null,
      "outputs": [
        {
          "output_type": "execute_result",
          "data": {
            "text/plain": [
              "'ISO-8859-1'"
            ],
            "application/vnd.google.colaboratory.intrinsic+json": {
              "type": "string"
            }
          },
          "metadata": {},
          "execution_count": 29
        }
      ]
    },
    {
      "cell_type": "code",
      "source": [
        "r.text[0:100]"
      ],
      "metadata": {
        "colab": {
          "base_uri": "https://localhost:8080/",
          "height": 35
        },
        "id": "_mQXLoSEvOCF",
        "outputId": "89250f1f-72ef-4b56-b883-76380070f31e"
      },
      "execution_count": null,
      "outputs": [
        {
          "output_type": "execute_result",
          "data": {
            "text/plain": [
              "'<!DOCTYPE html><html lang=\"en-US\"><head><meta name=\"viewport\" content=\"width=device-width\"/><meta ch'"
            ],
            "application/vnd.google.colaboratory.intrinsic+json": {
              "type": "string"
            }
          },
          "metadata": {},
          "execution_count": 30
        }
      ]
    },
    {
      "cell_type": "markdown",
      "source": [
        "You can load other types of data for non-text requests, like images. Consider the URL of the following image:\n"
      ],
      "metadata": {
        "id": "meNuQ0oLva05"
      }
    },
    {
      "cell_type": "code",
      "source": [
        "# Use single quotation marks for defining string\n",
        "url='https://cf-courses-data.s3.us.cloud-object-storage.appdomain.cloud/IBMDeveloperSkillsNetwork-PY0101EN-SkillsNetwork/IDSNlogo.png'"
      ],
      "metadata": {
        "id": "d7acOpARvSA4"
      },
      "execution_count": null,
      "outputs": []
    },
    {
      "cell_type": "code",
      "source": [
        "r=requests.get(url)"
      ],
      "metadata": {
        "id": "pIHG-YrPvjUW"
      },
      "execution_count": null,
      "outputs": []
    },
    {
      "cell_type": "code",
      "source": [
        "print(r.headers)"
      ],
      "metadata": {
        "colab": {
          "base_uri": "https://localhost:8080/"
        },
        "id": "urbrNOVCvlB2",
        "outputId": "1d04a88b-0cbc-499e-e8d5-2542e411dae1"
      },
      "execution_count": null,
      "outputs": [
        {
          "output_type": "stream",
          "name": "stdout",
          "text": [
            "{'Date': 'Sun, 01 Jan 2023 09:51:26 GMT', 'X-Clv-Request-Id': '9ac67e98-3bca-48ed-adfe-f2cea6e8b5e1', 'Server': 'Cleversafe', 'X-Clv-S3-Version': '2.5', 'Accept-Ranges': 'bytes', 'x-amz-request-id': '9ac67e98-3bca-48ed-adfe-f2cea6e8b5e1', 'ETag': '\"8bb44578fff8fdcc3d2972be9ece0164\"', 'Content-Type': 'image/png', 'Last-Modified': 'Wed, 16 Nov 2022 03:32:41 GMT', 'Content-Length': '78776'}\n"
          ]
        }
      ]
    },
    {
      "cell_type": "code",
      "source": [
        "r.headers['Content-Type']"
      ],
      "metadata": {
        "colab": {
          "base_uri": "https://localhost:8080/",
          "height": 35
        },
        "id": "i1u8c8HAvpfZ",
        "outputId": "eba3ac93-70af-4b2f-ec20-5d6bca19cd5d"
      },
      "execution_count": null,
      "outputs": [
        {
          "output_type": "execute_result",
          "data": {
            "text/plain": [
              "'image/png'"
            ],
            "application/vnd.google.colaboratory.intrinsic+json": {
              "type": "string"
            }
          },
          "metadata": {},
          "execution_count": 34
        }
      ]
    },
    {
      "cell_type": "markdown",
      "source": [
        "An image is a response object that contains the image as a <a href=\"https://docs.python.org/3/glossary.html?utm_medium=Exinfluencer&utm_source=Exinfluencer&utm_content=000026UJ&utm_term=10006555&utm_id=NA-SkillsNetwork-Channel-SkillsNetworkCoursesIBMDeveloperSkillsNetworkPY0101ENSkillsNetwork1005-2022-01-01#term-bytes-like-object\">bytes-like object</a>. As a result, we must save it using a file object. First, we specify the file path and\n",
        "name \n"
      ],
      "metadata": {
        "id": "tBcmn-c2vw0P"
      }
    },
    {
      "cell_type": "code",
      "source": [
        "path=os.path.join(os.getcwd(),'image.png')\n",
        "path"
      ],
      "metadata": {
        "colab": {
          "base_uri": "https://localhost:8080/",
          "height": 35
        },
        "id": "P0N2xMlgvss5",
        "outputId": "1fb28330-df1f-4218-be18-9d76ed572ffb"
      },
      "execution_count": null,
      "outputs": [
        {
          "output_type": "execute_result",
          "data": {
            "text/plain": [
              "'/content/image.png'"
            ],
            "application/vnd.google.colaboratory.intrinsic+json": {
              "type": "string"
            }
          },
          "metadata": {},
          "execution_count": 35
        }
      ]
    },
    {
      "cell_type": "markdown",
      "source": [
        "We save the file, in order to access the body of the response we use the attribute <code>content</code> then save it using the <code>open</code> function and write <code>method</code>: \n"
      ],
      "metadata": {
        "id": "JrzRsU_Dv9pJ"
      }
    },
    {
      "cell_type": "code",
      "source": [
        "with open(path,'wb') as f:\n",
        "    f.write(r.content)"
      ],
      "metadata": {
        "id": "4s0dqyQkv4qP"
      },
      "execution_count": null,
      "outputs": []
    },
    {
      "cell_type": "code",
      "source": [
        "Image.open(path)  "
      ],
      "metadata": {
        "colab": {
          "base_uri": "https://localhost:8080/",
          "height": 619
        },
        "id": "1JswaVfLwDrv",
        "outputId": "371f271f-79ef-4b7d-ad81-771abcb081c7"
      },
      "execution_count": null,
      "outputs": [
        {
          "output_type": "execute_result",
          "data": {
            "text/plain": [
              "<PIL.PngImagePlugin.PngImageFile image mode=RGBA size=1880x656 at 0x7F4214240D90>"
            ],
            "image/png": "[encoded data removed]"
          },
          "metadata": {},
          "execution_count": 37
        }
      ]
    },
    {
      "cell_type": "markdown",
      "source": [
        "<h1> Questions </h1>"
      ],
      "metadata": {
        "id": "74lVrimnwP6K"
      }
    },
    {
      "cell_type": "markdown",
      "source": [
        "<h3>Question 1: write <a href=\"https://www.gnu.org/software/wget/?utm_medium=Exinfluencer&utm_source=Exinfluencer&utm_content=000026UJ&utm_term=10006555&utm_id=NA-SkillsNetwork-Channel-SkillsNetworkCoursesIBMDeveloperSkillsNetworkPY0101ENSkillsNetwork1005-2022-01-01\"><code> wget </code></a></h3>\n"
      ],
      "metadata": {
        "id": "ymDfxGxTwVQE"
      }
    },
    {
      "cell_type": "markdown",
      "source": [
        "In the previous section, we used the wget function to retrieve content from the web server as shown below. Write the python code to perform the same task. The code should be the same as the one used to download the image, but the file name should be 'Example1.txt'.\n",
        "\n",
        "!wget -O /resources/data/Example1.txt https://cf-courses-data.s3.us.cloud-object-storage.appdomain.cloud/IBMDeveloperSkillsNetwork-PY0101EN-SkillsNetwork/labs/Module%205/data/Example1.txt"
      ],
      "metadata": {
        "id": "o4qQQYmjwh6N"
      }
    },
    {
      "cell_type": "markdown",
      "source": [
        "wb -> write and binary. Since you are writing a .jpg file\n",
        "rb ->  read  jpg file \n",
        "\n",
        "<span> On Windows, 'b' appended to the mode opens the file in binary mode, so there are also modes like 'rb', 'wb', and 'r+b'. Python on Windows makes a distinction between text and binary files; the end-of-line characters in text files are automatically altered slightly when data is read or written. This behind-the-scenes modification to file data is fine for ASCII text files, but it’ll corrupt binary data like that in JPEG or EXE files. </span>"
      ],
      "metadata": {
        "id": "6mVx0e_b0z40"
      }
    },
    {
      "cell_type": "markdown",
      "source": [
        "<details><summary>Click here for the solution</summary>\n",
        "\n",
        "```python\n",
        "url='https://cf-courses-data.s3.us.cloud-object-storage.appdomain.cloud/IBMDeveloperSkillsNetwork-PY0101EN-SkillsNetwork/labs/Module%205/data/Example1.txt'\n",
        "path=os.path.join(os.getcwd(),'example1.txt')\n",
        "r=requests.get(url)\n",
        "with open(path,'wb') as f:\n",
        "    f.write(r.content)\n",
        "\n",
        "```\n",
        "\n",
        "</details>\n"
      ],
      "metadata": {
        "id": "eOfbd_0E1gAg"
      }
    },
    {
      "cell_type": "code",
      "source": [
        "url='https://cf-courses-data.s3.us.cloud-object-storage.appdomain.cloud/IBMDeveloperSkillsNetwork-PY0101EN-SkillsNetwork/labs/Module%205/data/Example1.txt'\n",
        "\n",
        "path = os.path.join(os.getcwd() , 'example1.txt')\n",
        "\n",
        "r=requests.get(url)\n",
        "with open(path,'wb') as f:\n",
        "    print(r.content)\n",
        "    f.write(r.content)\n",
        "\n"
      ],
      "metadata": {
        "colab": {
          "base_uri": "https://localhost:8080/"
        },
        "id": "12Ac6qEKwWv-",
        "outputId": "48395280-c788-4c41-dfb3-0a9f61633a33"
      },
      "execution_count": null,
      "outputs": [
        {
          "output_type": "stream",
          "name": "stdout",
          "text": [
            "b'This is line 1 \\nThis is line 2\\nThis is line 3'\n"
          ]
        }
      ]
    },
    {
      "cell_type": "markdown",
      "source": [
        "<h2 id=\"URL_P\">Get Request with URL Parameters </h2>\n"
      ],
      "metadata": {
        "id": "3GaNk7xz18JB"
      }
    },
    {
      "cell_type": "code",
      "source": [
        "url_get='http://httpbin.org/get'"
      ],
      "metadata": {
        "id": "wILHL9dL11_V"
      },
      "execution_count": null,
      "outputs": []
    },
    {
      "cell_type": "code",
      "source": [
        "#To create a Query string, add a dictionary. The keys are the parameter names and the values are the value of the Query string.\n",
        "\n",
        "payload={\"name\":\"Joseph\",\"ID\":\"123\"}"
      ],
      "metadata": {
        "id": "nSbZj2YX1-sq"
      },
      "execution_count": null,
      "outputs": []
    },
    {
      "cell_type": "markdown",
      "source": [
        "Then passing the dictionary <code>payload</code> to the <code>params</code> parameter of the <code> get()</code> function:\n"
      ],
      "metadata": {
        "id": "niMslqjY2Nrz"
      }
    },
    {
      "cell_type": "code",
      "source": [
        "r=requests.get(url_get,params=payload)"
      ],
      "metadata": {
        "id": "3zWZ8Uri2JBG"
      },
      "execution_count": null,
      "outputs": []
    },
    {
      "cell_type": "code",
      "source": [
        "r.url"
      ],
      "metadata": {
        "colab": {
          "base_uri": "https://localhost:8080/",
          "height": 35
        },
        "id": "HzjyiEPJ2UUO",
        "outputId": "f0601722-94f4-4428-821f-b011acc2be8c"
      },
      "execution_count": null,
      "outputs": [
        {
          "output_type": "execute_result",
          "data": {
            "text/plain": [
              "'http://httpbin.org/get?name=Joseph&ID=123'"
            ],
            "application/vnd.google.colaboratory.intrinsic+json": {
              "type": "string"
            }
          },
          "metadata": {},
          "execution_count": 44
        }
      ]
    },
    {
      "cell_type": "code",
      "source": [
        "print(\"request body:\", r.request.body)"
      ],
      "metadata": {
        "colab": {
          "base_uri": "https://localhost:8080/"
        },
        "id": "vEPiJlz12XeH",
        "outputId": "e7a976db-1686-4404-883e-edd6977c463a"
      },
      "execution_count": null,
      "outputs": [
        {
          "output_type": "stream",
          "name": "stdout",
          "text": [
            "request body: None\n"
          ]
        }
      ]
    },
    {
      "cell_type": "code",
      "source": [
        "print(r.status_code)"
      ],
      "metadata": {
        "colab": {
          "base_uri": "https://localhost:8080/"
        },
        "id": "Ym6UTR7O2d39",
        "outputId": "e7993af8-a34b-48ca-93f8-4d8fb7263787"
      },
      "execution_count": null,
      "outputs": [
        {
          "output_type": "stream",
          "name": "stdout",
          "text": [
            "200\n"
          ]
        }
      ]
    },
    {
      "cell_type": "code",
      "source": [
        "print(r.text)"
      ],
      "metadata": {
        "colab": {
          "base_uri": "https://localhost:8080/"
        },
        "id": "SAnjGkrS2iXz",
        "outputId": "d707fc50-8490-4281-92f7-73f73a0e356a"
      },
      "execution_count": null,
      "outputs": [
        {
          "output_type": "stream",
          "name": "stdout",
          "text": [
            "{\n",
            "  \"args\": {\n",
            "    \"ID\": \"123\", \n",
            "    \"name\": \"Joseph\"\n",
            "  }, \n",
            "  \"headers\": {\n",
            "    \"Accept\": \"*/*\", \n",
            "    \"Accept-Encoding\": \"gzip, deflate\", \n",
            "    \"Host\": \"httpbin.org\", \n",
            "    \"User-Agent\": \"python-requests/2.23.0\", \n",
            "    \"X-Amzn-Trace-Id\": \"Root=1-63b15e7c-6b1b18dd2536a36c12646e89\"\n",
            "  }, \n",
            "  \"origin\": \"34.74.67.161\", \n",
            "  \"url\": \"http://httpbin.org/get?name=Joseph&ID=123\"\n",
            "}\n",
            "\n"
          ]
        }
      ]
    },
    {
      "cell_type": "code",
      "source": [
        "r.headers['Content-Type']"
      ],
      "metadata": {
        "colab": {
          "base_uri": "https://localhost:8080/",
          "height": 35
        },
        "id": "g533DBmm2oT3",
        "outputId": "0cef9e33-3da8-4abd-ca8e-121719bb48f1"
      },
      "execution_count": null,
      "outputs": [
        {
          "output_type": "execute_result",
          "data": {
            "text/plain": [
              "'application/json'"
            ],
            "application/vnd.google.colaboratory.intrinsic+json": {
              "type": "string"
            }
          },
          "metadata": {},
          "execution_count": 48
        }
      ]
    },
    {
      "cell_type": "code",
      "source": [
        "r.json()"
      ],
      "metadata": {
        "colab": {
          "base_uri": "https://localhost:8080/"
        },
        "id": "EPOvr0fM2sBI",
        "outputId": "5051dd38-3368-4fc7-8f65-0d4839476bd8"
      },
      "execution_count": null,
      "outputs": [
        {
          "output_type": "execute_result",
          "data": {
            "text/plain": [
              "{'args': {'ID': '123', 'name': 'Joseph'},\n",
              " 'headers': {'Accept': '*/*',\n",
              "  'Accept-Encoding': 'gzip, deflate',\n",
              "  'Host': 'httpbin.org',\n",
              "  'User-Agent': 'python-requests/2.23.0',\n",
              "  'X-Amzn-Trace-Id': 'Root=1-63b15e7c-6b1b18dd2536a36c12646e89'},\n",
              " 'origin': '34.74.67.161',\n",
              " 'url': 'http://httpbin.org/get?name=Joseph&ID=123'}"
            ]
          },
          "metadata": {},
          "execution_count": 49
        }
      ]
    },
    {
      "cell_type": "code",
      "source": [
        "r.json()['args']"
      ],
      "metadata": {
        "colab": {
          "base_uri": "https://localhost:8080/"
        },
        "id": "vAztiqBM2vZj",
        "outputId": "760f7174-7975-46ac-f5b0-4d3f33644055"
      },
      "execution_count": null,
      "outputs": [
        {
          "output_type": "execute_result",
          "data": {
            "text/plain": [
              "{'ID': '123', 'name': 'Joseph'}"
            ]
          },
          "metadata": {},
          "execution_count": 50
        }
      ]
    },
    {
      "cell_type": "code",
      "source": [
        "url_post='http://httpbin.org/post'"
      ],
      "metadata": {
        "id": "-b_6Ann42zg4"
      },
      "execution_count": null,
      "outputs": []
    },
    {
      "cell_type": "markdown",
      "source": [
        "This endpoint will expect data as a file or as a form. A form is convenient way to configure an HTTP request to send data to a server.\n",
        "\n",
        "To make a <code>POST</code> request we use the <code>post()</code> function, the variable <code>payload</code> is passed to the parameter <code> data </code>:\n"
      ],
      "metadata": {
        "id": "6jeabNry2_ap"
      }
    },
    {
      "cell_type": "code",
      "source": [
        "r_post=requests.post(url_post,data=payload)"
      ],
      "metadata": {
        "id": "AWkgaxQy3DmH"
      },
      "execution_count": null,
      "outputs": []
    },
    {
      "cell_type": "markdown",
      "source": [
        "Comparing the URL from the response object of the <code>GET</code> and <code>POST</code> request we see the <code>POST</code> request has no name or value pairs.\n"
      ],
      "metadata": {
        "id": "qMpdJHCA3PM1"
      }
    },
    {
      "cell_type": "code",
      "source": [
        "print(\"POST request URL:\",r_post.url )\n",
        "print(\"GET request URL:\",r.url)"
      ],
      "metadata": {
        "colab": {
          "base_uri": "https://localhost:8080/"
        },
        "id": "h6JF-1sq3IE_",
        "outputId": "5c81d478-25b3-43ec-b618-f18c715c1054"
      },
      "execution_count": null,
      "outputs": [
        {
          "output_type": "stream",
          "name": "stdout",
          "text": [
            "POST request URL: http://httpbin.org/post\n",
            "GET request URL: http://httpbin.org/get?name=Joseph&ID=123\n"
          ]
        }
      ]
    },
    {
      "cell_type": "markdown",
      "source": [
        "We can compare the <code>POST</code> and <code>GET</code> request body, we see only the <code>POST</code> request has a body:\n"
      ],
      "metadata": {
        "id": "6SFYYW0S3d41"
      }
    },
    {
      "cell_type": "code",
      "source": [
        "print(\"POST request body:\",r_post.request.body)\n",
        "print(\"GET request body:\",r.request.body)"
      ],
      "metadata": {
        "colab": {
          "base_uri": "https://localhost:8080/"
        },
        "id": "eGRJ0CzH3aZz",
        "outputId": "62ac57f3-8ec6-4854-e23b-2b784943443e"
      },
      "execution_count": null,
      "outputs": [
        {
          "output_type": "stream",
          "name": "stdout",
          "text": [
            "POST request body: name=Joseph&ID=123\n",
            "GET request body: None\n"
          ]
        }
      ]
    },
    {
      "cell_type": "code",
      "source": [
        "r_post.json()['form']"
      ],
      "metadata": {
        "colab": {
          "base_uri": "https://localhost:8080/"
        },
        "id": "OJoThFaR3bXx",
        "outputId": "517703b6-9daa-483d-b54e-6a4ed8278d85"
      },
      "execution_count": null,
      "outputs": [
        {
          "output_type": "execute_result",
          "data": {
            "text/plain": [
              "{'ID': '123', 'name': 'Joseph'}"
            ]
          },
          "metadata": {},
          "execution_count": 55
        }
      ]
    },
    {
      "cell_type": "markdown",
      "source": [
        "<h2>  Hands-On Lab: API Examples </h2>"
      ],
      "metadata": {
        "id": "qZyfUMcT4EJ3"
      }
    },
    {
      "cell_type": "markdown",
      "source": [
        "<center>\n",
        "    <img src=\"https://cf-courses-data.s3.us.cloud-object-storage.appdomain.cloud/assets/logos/SN_web_lightmode.png\" width=\"300\" alt=\"cognitiveclass.ai logo\">\n",
        "</center>\n",
        "\n",
        "# Simple APIs \n",
        "## Random User and Fruitvice API Examples\n",
        "\n",
        "\n",
        "Estimated time needed: **25** minutes\n",
        "\n",
        "## Objectives\n",
        "\n",
        "After completing this lab you will be able to:\n",
        "\n",
        "*   Load and use RandomUser API, using `RandomUser()` Python library\n",
        "*   Load and use Fruitvice API, using `requests` Python library\n",
        "\n"
      ],
      "metadata": {
        "id": "A4rvwX5-4Zt_"
      }
    },
    {
      "cell_type": "markdown",
      "source": [
        "## Example 1: RandomUser API\n",
        "Bellow are Get Methods parameters that we can generate. For more information on the parameters, please visit this [documentation](https://randomuser.me/documentation?utm_medium=Exinfluencer&utm_source=Exinfluencer&utm_content=000026UJ&utm_term=10006555&utm_id=NA-SkillsNetwork-Channel-SkillsNetworkCoursesIBMDeveloperSkillsNetworkPY0101ENSkillsNetwork1005-2022-01-01) page.\n",
        "\n",
        "\n",
        "## **Get Methods**\n",
        "\n",
        "- get_cell()\n",
        "- get_city()\n",
        "- get_dob()\n",
        "- get_email()\n",
        "- get_first_name()\n",
        "- get_full_name()\n",
        "- get_gender()\n",
        "- get_id()\n",
        "- get_id_number()\n",
        "- get_id_type()\n",
        "- get_info()\n",
        "- get_last_name()\n",
        "- get_login_md5()\n",
        "- get_login_salt()\n",
        "- get_login_sha1()\n",
        "- get_login_sha256()\n",
        "- get_nat()\n",
        "- get_password()\n",
        "- get_phone()\n",
        "- get_picture()\n",
        "- get_postcode()\n",
        "- get_registered()\n",
        "- get_state()\n",
        "- get_street()\n",
        "- get_username()\n",
        "- get_zipcode()\n"
      ],
      "metadata": {
        "id": "bV-0Bqed4mKQ"
      }
    },
    {
      "cell_type": "markdown",
      "source": [
        "\n",
        "---\n",
        "\n",
        "To start using the API you can install the `randomuser` library running the `pip install` command.\n"
      ],
      "metadata": {
        "id": "Gg1pdhKA5Jvn"
      }
    },
    {
      "cell_type": "code",
      "source": [
        "!pip install randomuser"
      ],
      "metadata": {
        "colab": {
          "base_uri": "https://localhost:8080/"
        },
        "id": "AncPSr0g4HlG",
        "outputId": "fdafe0b0-bfe4-48a9-932c-fe7a726c27c5"
      },
      "execution_count": null,
      "outputs": [
        {
          "output_type": "stream",
          "name": "stdout",
          "text": [
            "Looking in indexes: https://pypi.org/simple, https://us-python.pkg.dev/colab-wheels/public/simple/\n",
            "Collecting randomuser\n",
            "  Downloading randomuser-1.6.tar.gz (5.0 kB)\n",
            "Building wheels for collected packages: randomuser\n",
            "  Building wheel for randomuser (setup.py) ... \u001b[?25l\u001b[?25hdone\n",
            "  Created wheel for randomuser: filename=randomuser-1.6-py3-none-any.whl size=5083 sha256=2b277fb94b7cee4638ec81c991536b0f4b198c2f294da1918b7045f8df62298c\n",
            "  Stored in directory: /root/.cache/pip/wheels/17/a5/f9/554200008d8fc0d9ad077722bf27cde01be06cebedadc24600\n",
            "Successfully built randomuser\n",
            "Installing collected packages: randomuser\n",
            "Successfully installed randomuser-1.6\n"
          ]
        }
      ]
    },
    {
      "cell_type": "code",
      "source": [
        "from randomuser import RandomUser\n",
        "import pandas as pd"
      ],
      "metadata": {
        "id": "rCxTMMrw5fcB"
      },
      "execution_count": null,
      "outputs": []
    },
    {
      "cell_type": "code",
      "source": [
        "r = RandomUser()"
      ],
      "metadata": {
        "id": "cxWU5npV5sfh"
      },
      "execution_count": null,
      "outputs": []
    },
    {
      "cell_type": "code",
      "source": [
        "some_list = r.generate_users(10)\n",
        "some_list"
      ],
      "metadata": {
        "colab": {
          "base_uri": "https://localhost:8080/"
        },
        "id": "m3lfmOriTd1i",
        "outputId": "bc753e98-6a6c-47c7-daa6-d570273e5a7c"
      },
      "execution_count": null,
      "outputs": [
        {
          "output_type": "execute_result",
          "data": {
            "text/plain": [
              "[<randomuser.RandomUser at 0x7f4213792070>,\n",
              " <randomuser.RandomUser at 0x7f4213792370>,\n",
              " <randomuser.RandomUser at 0x7f42137923d0>,\n",
              " <randomuser.RandomUser at 0x7f42137926a0>,\n",
              " <randomuser.RandomUser at 0x7f42137920a0>,\n",
              " <randomuser.RandomUser at 0x7f42137928b0>,\n",
              " <randomuser.RandomUser at 0x7f42155ff100>,\n",
              " <randomuser.RandomUser at 0x7f4211f2b0d0>,\n",
              " <randomuser.RandomUser at 0x7f4211f2b400>,\n",
              " <randomuser.RandomUser at 0x7f4211f2b7f0>]"
            ]
          },
          "metadata": {},
          "execution_count": 59
        }
      ]
    },
    {
      "cell_type": "code",
      "source": [
        "name = r.get_full_name()"
      ],
      "metadata": {
        "id": "toozuwKwTpai"
      },
      "execution_count": null,
      "outputs": []
    },
    {
      "cell_type": "code",
      "source": [
        "for user in some_list:\n",
        "    print (user.get_full_name(),\" \",user.get_email())"
      ],
      "metadata": {
        "colab": {
          "base_uri": "https://localhost:8080/"
        },
        "id": "9a7nqwRLTqyn",
        "outputId": "95c1f747-67ca-414c-f7b5-2f343044887f"
      },
      "execution_count": null,
      "outputs": [
        {
          "output_type": "stream",
          "name": "stdout",
          "text": [
            "Natan Omland   natan.omland@example.com\n",
            "Chloe Steward   chloe.steward@example.com\n",
            "Elliot Colin   elliot.colin@example.com\n",
            "Matias Kyllonen   matias.kyllonen@example.com\n",
            "Alberte Mortensen   alberte.mortensen@example.com\n",
            "Hans-Ulrich Faure   hans-ulrich.faure@example.com\n",
            "Snorre Martens   snorre.martens@example.com\n",
            "Linnea Korpi   linnea.korpi@example.com\n",
            "Juho Kivela   juho.kivela@example.com\n",
            "Lone Verkerk   lone.verkerk@example.com\n"
          ]
        }
      ]
    },
    {
      "cell_type": "markdown",
      "source": [
        "## Exercise 1\n",
        "In this Exercise, generate photos of the random 5 users."
      ],
      "metadata": {
        "id": "XzdH6NmUT5xT"
      }
    },
    {
      "cell_type": "code",
      "source": [
        "some_list = r.generate_users(5)\n",
        "\n",
        "for user in some_list:\n",
        "    print (user.get_picture())"
      ],
      "metadata": {
        "colab": {
          "base_uri": "https://localhost:8080/"
        },
        "id": "NPneJO4ZUAR6",
        "outputId": "1546aa5a-1412-4e6b-b343-ffefde93a8e0"
      },
      "execution_count": null,
      "outputs": [
        {
          "output_type": "stream",
          "name": "stdout",
          "text": [
            "https://randomuser.me/api/portraits/women/83.jpg\n",
            "https://randomuser.me/api/portraits/men/14.jpg\n",
            "https://randomuser.me/api/portraits/women/49.jpg\n",
            "https://randomuser.me/api/portraits/men/25.jpg\n",
            "https://randomuser.me/api/portraits/women/16.jpg\n"
          ]
        }
      ]
    },
    {
      "cell_type": "markdown",
      "source": [
        "<h4> To generate a table with information about the users, we can write a function containing all desirable parameters. For example, name, gender, city, etc. The parameters will depend on the requirements of the test to be performed. We call the Get Methods, listed at the beginning of this notebook. Then, we return pandas dataframe with the users. </h4>\n"
      ],
      "metadata": {
        "id": "X1Q1LVtlVZE4"
      }
    },
    {
      "cell_type": "code",
      "source": [
        "def get_users():\n",
        "    users =[]\n",
        "     \n",
        "    for user in RandomUser.generate_users(10):\n",
        "        users.append({\"Name\":user.get_full_name(),\n",
        "                      \"Gender\":user.get_gender(),\n",
        "                      \"City\":user.get_city(),\n",
        "                      \"State\":user.get_state(),\n",
        "                      \"Email\":user.get_email(), \n",
        "                      \"DOB\":user.get_dob(),\n",
        "                      \"Picture\":user.get_picture()})\n",
        "      \n",
        "    return pd.DataFrame(users)    \n",
        "\n",
        "get_users()"
      ],
      "metadata": {
        "colab": {
          "base_uri": "https://localhost:8080/",
          "height": 363
        },
        "id": "bcZJstkjVdic",
        "outputId": "1022ef60-c5cd-4474-e5aa-1ce29e33c335"
      },
      "execution_count": null,
      "outputs": [
        {
          "output_type": "execute_result",
          "data": {
            "text/plain": [
              "              Name  Gender                  City              State  \\\n",
              "0    Clara Serrano  female  Jerez de la Frontera           Asturias   \n",
              "1     Lloyd Jordan    male                Albany  Western Australia   \n",
              "2      Andrea Ruiz  female               Glasgow            Borders   \n",
              "3   Rosalyn Weaver  female            Canterbury      Isle of Wight   \n",
              "4   Viivi Leppanen  female                Oripää   Northern Savonia   \n",
              "5    Zackary Patel    male               Lumsden       Saskatchewan   \n",
              "6     Çetin Kunter    male               Ardahan            Aksaray   \n",
              "7     Alice Turner  female               Porirua              Otago   \n",
              "8   Stefan Lilleby    male                Leland            Hedmark   \n",
              "9  Nazia Van Andel  female  Hazerswoude-Rijndijk          Friesland   \n",
              "\n",
              "                        Email                       DOB  \\\n",
              "0   clara.serrano@example.com  1966-10-11T05:44:20.004Z   \n",
              "1    lloyd.jordan@example.com  1970-03-01T07:48:39.488Z   \n",
              "2     andrea.ruiz@example.com  1992-07-08T00:12:40.445Z   \n",
              "3  rosalyn.weaver@example.com  1972-02-12T07:41:42.156Z   \n",
              "4  viivi.leppanen@example.com  1993-02-06T14:09:25.624Z   \n",
              "5   zackary.patel@example.com  1972-11-11T14:55:57.774Z   \n",
              "6    cetin.kunter@example.com  1989-11-19T23:56:57.359Z   \n",
              "7    alice.turner@example.com  1969-07-08T03:16:27.120Z   \n",
              "8  stefan.lilleby@example.com  1971-03-09T08:04:51.421Z   \n",
              "9  nazia.vanandel@example.com  1971-03-14T23:56:56.999Z   \n",
              "\n",
              "                                            Picture  \n",
              "0  https://randomuser.me/api/portraits/women/35.jpg  \n",
              "1    https://randomuser.me/api/portraits/men/93.jpg  \n",
              "2  https://randomuser.me/api/portraits/women/60.jpg  \n",
              "3  https://randomuser.me/api/portraits/women/58.jpg  \n",
              "4  https://randomuser.me/api/portraits/women/16.jpg  \n",
              "5    https://randomuser.me/api/portraits/men/47.jpg  \n",
              "6    https://randomuser.me/api/portraits/men/95.jpg  \n",
              "7  https://randomuser.me/api/portraits/women/96.jpg  \n",
              "8    https://randomuser.me/api/portraits/men/87.jpg  \n",
              "9  https://randomuser.me/api/portraits/women/36.jpg  "
            ],
            "text/html": [
              "\n",
              "  <div id=\"df-a477459e-33bc-419e-b6df-ae26bec5fc33\">\n",
              "    <div class=\"colab-df-container\">\n",
              "      <div>\n",
              "<style scoped>\n",
              "    .dataframe tbody tr th:only-of-type {\n",
              "        vertical-align: middle;\n",
              "    }\n",
              "\n",
              "    .dataframe tbody tr th {\n",
              "        vertical-align: top;\n",
              "    }\n",
              "\n",
              "    .dataframe thead th {\n",
              "        text-align: right;\n",
              "    }\n",
              "</style>\n",
              "<table border=\"1\" class=\"dataframe\">\n",
              "  <thead>\n",
              "    <tr style=\"text-align: right;\">\n",
              "      <th></th>\n",
              "      <th>Name</th>\n",
              "      <th>Gender</th>\n",
              "      <th>City</th>\n",
              "      <th>State</th>\n",
              "      <th>Email</th>\n",
              "      <th>DOB</th>\n",
              "      <th>Picture</th>\n",
              "    </tr>\n",
              "  </thead>\n",
              "  <tbody>\n",
              "    <tr>\n",
              "      <th>0</th>\n",
              "      <td>Clara Serrano</td>\n",
              "      <td>female</td>\n",
              "      <td>Jerez de la Frontera</td>\n",
              "      <td>Asturias</td>\n",
              "      <td>clara.serrano@example.com</td>\n",
              "      <td>1966-10-11T05:44:20.004Z</td>\n",
              "      <td>https://randomuser.me/api/portraits/women/35.jpg</td>\n",
              "    </tr>\n",
              "    <tr>\n",
              "      <th>1</th>\n",
              "      <td>Lloyd Jordan</td>\n",
              "      <td>male</td>\n",
              "      <td>Albany</td>\n",
              "      <td>Western Australia</td>\n",
              "      <td>lloyd.jordan@example.com</td>\n",
              "      <td>1970-03-01T07:48:39.488Z</td>\n",
              "      <td>https://randomuser.me/api/portraits/men/93.jpg</td>\n",
              "    </tr>\n",
              "    <tr>\n",
              "      <th>2</th>\n",
              "      <td>Andrea Ruiz</td>\n",
              "      <td>female</td>\n",
              "      <td>Glasgow</td>\n",
              "      <td>Borders</td>\n",
              "      <td>andrea.ruiz@example.com</td>\n",
              "      <td>1992-07-08T00:12:40.445Z</td>\n",
              "      <td>https://randomuser.me/api/portraits/women/60.jpg</td>\n",
              "    </tr>\n",
              "    <tr>\n",
              "      <th>3</th>\n",
              "      <td>Rosalyn Weaver</td>\n",
              "      <td>female</td>\n",
              "      <td>Canterbury</td>\n",
              "      <td>Isle of Wight</td>\n",
              "      <td>rosalyn.weaver@example.com</td>\n",
              "      <td>1972-02-12T07:41:42.156Z</td>\n",
              "      <td>https://randomuser.me/api/portraits/women/58.jpg</td>\n",
              "    </tr>\n",
              "    <tr>\n",
              "      <th>4</th>\n",
              "      <td>Viivi Leppanen</td>\n",
              "      <td>female</td>\n",
              "      <td>Oripää</td>\n",
              "      <td>Northern Savonia</td>\n",
              "      <td>viivi.leppanen@example.com</td>\n",
              "      <td>1993-02-06T14:09:25.624Z</td>\n",
              "      <td>https://randomuser.me/api/portraits/women/16.jpg</td>\n",
              "    </tr>\n",
              "    <tr>\n",
              "      <th>5</th>\n",
              "      <td>Zackary Patel</td>\n",
              "      <td>male</td>\n",
              "      <td>Lumsden</td>\n",
              "      <td>Saskatchewan</td>\n",
              "      <td>zackary.patel@example.com</td>\n",
              "      <td>1972-11-11T14:55:57.774Z</td>\n",
              "      <td>https://randomuser.me/api/portraits/men/47.jpg</td>\n",
              "    </tr>\n",
              "    <tr>\n",
              "      <th>6</th>\n",
              "      <td>Çetin Kunter</td>\n",
              "      <td>male</td>\n",
              "      <td>Ardahan</td>\n",
              "      <td>Aksaray</td>\n",
              "      <td>cetin.kunter@example.com</td>\n",
              "      <td>1989-11-19T23:56:57.359Z</td>\n",
              "      <td>https://randomuser.me/api/portraits/men/95.jpg</td>\n",
              "    </tr>\n",
              "    <tr>\n",
              "      <th>7</th>\n",
              "      <td>Alice Turner</td>\n",
              "      <td>female</td>\n",
              "      <td>Porirua</td>\n",
              "      <td>Otago</td>\n",
              "      <td>alice.turner@example.com</td>\n",
              "      <td>1969-07-08T03:16:27.120Z</td>\n",
              "      <td>https://randomuser.me/api/portraits/women/96.jpg</td>\n",
              "    </tr>\n",
              "    <tr>\n",
              "      <th>8</th>\n",
              "      <td>Stefan Lilleby</td>\n",
              "      <td>male</td>\n",
              "      <td>Leland</td>\n",
              "      <td>Hedmark</td>\n",
              "      <td>stefan.lilleby@example.com</td>\n",
              "      <td>1971-03-09T08:04:51.421Z</td>\n",
              "      <td>https://randomuser.me/api/portraits/men/87.jpg</td>\n",
              "    </tr>\n",
              "    <tr>\n",
              "      <th>9</th>\n",
              "      <td>Nazia Van Andel</td>\n",
              "      <td>female</td>\n",
              "      <td>Hazerswoude-Rijndijk</td>\n",
              "      <td>Friesland</td>\n",
              "      <td>nazia.vanandel@example.com</td>\n",
              "      <td>1971-03-14T23:56:56.999Z</td>\n",
              "      <td>https://randomuser.me/api/portraits/women/36.jpg</td>\n",
              "    </tr>\n",
              "  </tbody>\n",
              "</table>\n",
              "</div>\n",
              "      <button class=\"colab-df-convert\" onclick=\"convertToInteractive('df-a477459e-33bc-419e-b6df-ae26bec5fc33')\"\n",
              "              title=\"Convert this dataframe to an interactive table.\"\n",
              "              style=\"display:none;\">\n",
              "        \n",
              "  <svg xmlns=\"http://www.w3.org/2000/svg\" height=\"24px\"viewBox=\"0 0 24 24\"\n",
              "       width=\"24px\">\n",
              "    <path d=\"M0 0h24v24H0V0z\" fill=\"none\"/>\n",
              "    <path d=\"M18.56 5.44l.94 2.06.94-2.06 2.06-.94-2.06-.94-.94-2.06-.94 2.06-2.06.94zm-11 1L8.5 8.5l.94-2.06 2.06-.94-2.06-.94L8.5 2.5l-.94 2.06-2.06.94zm10 10l.94 2.06.94-2.06 2.06-.94-2.06-.94-.94-2.06-.94 2.06-2.06.94z\"/><path d=\"M17.41 7.96l-1.37-1.37c-.4-.4-.92-.59-1.43-.59-.52 0-1.04.2-1.43.59L10.3 9.45l-7.72 7.72c-.78.78-.78 2.05 0 2.83L4 21.41c.39.39.9.59 1.41.59.51 0 1.02-.2 1.41-.59l7.78-7.78 2.81-2.81c.8-.78.8-2.07 0-2.86zM5.41 20L4 18.59l7.72-7.72 1.47 1.35L5.41 20z\"/>\n",
              "  </svg>\n",
              "      </button>\n",
              "      \n",
              "  <style>\n",
              "    .colab-df-container {\n",
              "      display:flex;\n",
              "      flex-wrap:wrap;\n",
              "      gap: 12px;\n",
              "    }\n",
              "\n",
              "    .colab-df-convert {\n",
              "      background-color: #E8F0FE;\n",
              "      border: none;\n",
              "      border-radius: 50%;\n",
              "      cursor: pointer;\n",
              "      display: none;\n",
              "      fill: #1967D2;\n",
              "      height: 32px;\n",
              "      padding: 0 0 0 0;\n",
              "      width: 32px;\n",
              "    }\n",
              "\n",
              "    .colab-df-convert:hover {\n",
              "      background-color: #E2EBFA;\n",
              "      box-shadow: 0px 1px 2px rgba(60, 64, 67, 0.3), 0px 1px 3px 1px rgba(60, 64, 67, 0.15);\n",
              "      fill: #174EA6;\n",
              "    }\n",
              "\n",
              "    [theme=dark] .colab-df-convert {\n",
              "      background-color: #3B4455;\n",
              "      fill: #D2E3FC;\n",
              "    }\n",
              "\n",
              "    [theme=dark] .colab-df-convert:hover {\n",
              "      background-color: #434B5C;\n",
              "      box-shadow: 0px 1px 3px 1px rgba(0, 0, 0, 0.15);\n",
              "      filter: drop-shadow(0px 1px 2px rgba(0, 0, 0, 0.3));\n",
              "      fill: #FFFFFF;\n",
              "    }\n",
              "  </style>\n",
              "\n",
              "      <script>\n",
              "        const buttonEl =\n",
              "          document.querySelector('#df-a477459e-33bc-419e-b6df-ae26bec5fc33 button.colab-df-convert');\n",
              "        buttonEl.style.display =\n",
              "          google.colab.kernel.accessAllowed ? 'block' : 'none';\n",
              "\n",
              "        async function convertToInteractive(key) {\n",
              "          const element = document.querySelector('#df-a477459e-33bc-419e-b6df-ae26bec5fc33');\n",
              "          const dataTable =\n",
              "            await google.colab.kernel.invokeFunction('convertToInteractive',\n",
              "                                                     [key], {});\n",
              "          if (!dataTable) return;\n",
              "\n",
              "          const docLinkHtml = 'Like what you see? Visit the ' +\n",
              "            '<a target=\"_blank\" href=https://colab.research.google.com/notebooks/data_table.ipynb>data table notebook</a>'\n",
              "            + ' to learn more about interactive tables.';\n",
              "          element.innerHTML = '';\n",
              "          dataTable['output_type'] = 'display_data';\n",
              "          await google.colab.output.renderOutput(dataTable, element);\n",
              "          const docLink = document.createElement('div');\n",
              "          docLink.innerHTML = docLinkHtml;\n",
              "          element.appendChild(docLink);\n",
              "        }\n",
              "      </script>\n",
              "    </div>\n",
              "  </div>\n",
              "  "
            ]
          },
          "metadata": {},
          "execution_count": 64
        }
      ]
    },
    {
      "cell_type": "code",
      "source": [
        "df1 = pd.DataFrame(get_users())\n",
        "\n",
        "df1"
      ],
      "metadata": {
        "colab": {
          "base_uri": "https://localhost:8080/",
          "height": 363
        },
        "id": "7Jzbi8rjV91j",
        "outputId": "be92611d-8537-480e-b92e-ac23e382b0ba"
      },
      "execution_count": null,
      "outputs": [
        {
          "output_type": "execute_result",
          "data": {
            "text/plain": [
              "                    Name  Gender           City        State  \\\n",
              "0          Justin Kelley    male  Miami Gardens       Oregon   \n",
              "1              Stella Li  female     Upper Hutt     Gisborne   \n",
              "2           Ethan Fields    male        Tramore       Offaly   \n",
              "3        Otília Ferreira  female  Montes Claros      Roraima   \n",
              "4             Ilona Ramo  female     Lumparland    Satakunta   \n",
              "5             Sonia Soto  female       Zaragoza        Ceuta   \n",
              "6  Josefine Christiansen  female  Frederiksberg     Sjælland   \n",
              "7            آرمیتا کوتی  female          ملارد      هرمزگان   \n",
              "8                Leo Roy    male   Chesterville  Nova Scotia   \n",
              "9           Ebba Klopper  female    Kraggenburg    Friesland   \n",
              "\n",
              "                               Email                       DOB  \\\n",
              "0          justin.kelley@example.com  1963-03-28T10:19:11.533Z   \n",
              "1              stella.li@example.com  1953-08-01T10:27:07.799Z   \n",
              "2           ethan.fields@example.com  1946-11-23T21:35:51.856Z   \n",
              "3        otilia.ferreira@example.com  1948-09-09T05:55:42.814Z   \n",
              "4             ilona.ramo@example.com  1977-07-28T02:05:33.562Z   \n",
              "5             sonia.soto@example.com  1950-12-20T04:05:08.153Z   \n",
              "6  josefine.christiansen@example.com  1997-10-16T16:18:03.726Z   \n",
              "7            armyt.khwty@example.com  1954-10-19T15:02:02.589Z   \n",
              "8                leo.roy@example.com  1981-05-08T11:54:39.683Z   \n",
              "9           ebba.klopper@example.com  1945-11-30T01:56:08.733Z   \n",
              "\n",
              "                                            Picture  \n",
              "0    https://randomuser.me/api/portraits/men/47.jpg  \n",
              "1  https://randomuser.me/api/portraits/women/41.jpg  \n",
              "2    https://randomuser.me/api/portraits/men/64.jpg  \n",
              "3  https://randomuser.me/api/portraits/women/66.jpg  \n",
              "4  https://randomuser.me/api/portraits/women/35.jpg  \n",
              "5  https://randomuser.me/api/portraits/women/26.jpg  \n",
              "6  https://randomuser.me/api/portraits/women/59.jpg  \n",
              "7  https://randomuser.me/api/portraits/women/72.jpg  \n",
              "8    https://randomuser.me/api/portraits/men/47.jpg  \n",
              "9  https://randomuser.me/api/portraits/women/74.jpg  "
            ],
            "text/html": [
              "\n",
              "  <div id=\"df-9532581d-1c5f-4bbf-b598-ddccff767f49\">\n",
              "    <div class=\"colab-df-container\">\n",
              "      <div>\n",
              "<style scoped>\n",
              "    .dataframe tbody tr th:only-of-type {\n",
              "        vertical-align: middle;\n",
              "    }\n",
              "\n",
              "    .dataframe tbody tr th {\n",
              "        vertical-align: top;\n",
              "    }\n",
              "\n",
              "    .dataframe thead th {\n",
              "        text-align: right;\n",
              "    }\n",
              "</style>\n",
              "<table border=\"1\" class=\"dataframe\">\n",
              "  <thead>\n",
              "    <tr style=\"text-align: right;\">\n",
              "      <th></th>\n",
              "      <th>Name</th>\n",
              "      <th>Gender</th>\n",
              "      <th>City</th>\n",
              "      <th>State</th>\n",
              "      <th>Email</th>\n",
              "      <th>DOB</th>\n",
              "      <th>Picture</th>\n",
              "    </tr>\n",
              "  </thead>\n",
              "  <tbody>\n",
              "    <tr>\n",
              "      <th>0</th>\n",
              "      <td>Justin Kelley</td>\n",
              "      <td>male</td>\n",
              "      <td>Miami Gardens</td>\n",
              "      <td>Oregon</td>\n",
              "      <td>justin.kelley@example.com</td>\n",
              "      <td>1963-03-28T10:19:11.533Z</td>\n",
              "      <td>https://randomuser.me/api/portraits/men/47.jpg</td>\n",
              "    </tr>\n",
              "    <tr>\n",
              "      <th>1</th>\n",
              "      <td>Stella Li</td>\n",
              "      <td>female</td>\n",
              "      <td>Upper Hutt</td>\n",
              "      <td>Gisborne</td>\n",
              "      <td>stella.li@example.com</td>\n",
              "      <td>1953-08-01T10:27:07.799Z</td>\n",
              "      <td>https://randomuser.me/api/portraits/women/41.jpg</td>\n",
              "    </tr>\n",
              "    <tr>\n",
              "      <th>2</th>\n",
              "      <td>Ethan Fields</td>\n",
              "      <td>male</td>\n",
              "      <td>Tramore</td>\n",
              "      <td>Offaly</td>\n",
              "      <td>ethan.fields@example.com</td>\n",
              "      <td>1946-11-23T21:35:51.856Z</td>\n",
              "      <td>https://randomuser.me/api/portraits/men/64.jpg</td>\n",
              "    </tr>\n",
              "    <tr>\n",
              "      <th>3</th>\n",
              "      <td>Otília Ferreira</td>\n",
              "      <td>female</td>\n",
              "      <td>Montes Claros</td>\n",
              "      <td>Roraima</td>\n",
              "      <td>otilia.ferreira@example.com</td>\n",
              "      <td>1948-09-09T05:55:42.814Z</td>\n",
              "      <td>https://randomuser.me/api/portraits/women/66.jpg</td>\n",
              "    </tr>\n",
              "    <tr>\n",
              "      <th>4</th>\n",
              "      <td>Ilona Ramo</td>\n",
              "      <td>female</td>\n",
              "      <td>Lumparland</td>\n",
              "      <td>Satakunta</td>\n",
              "      <td>ilona.ramo@example.com</td>\n",
              "      <td>1977-07-28T02:05:33.562Z</td>\n",
              "      <td>https://randomuser.me/api/portraits/women/35.jpg</td>\n",
              "    </tr>\n",
              "    <tr>\n",
              "      <th>5</th>\n",
              "      <td>Sonia Soto</td>\n",
              "      <td>female</td>\n",
              "      <td>Zaragoza</td>\n",
              "      <td>Ceuta</td>\n",
              "      <td>sonia.soto@example.com</td>\n",
              "      <td>1950-12-20T04:05:08.153Z</td>\n",
              "      <td>https://randomuser.me/api/portraits/women/26.jpg</td>\n",
              "    </tr>\n",
              "    <tr>\n",
              "      <th>6</th>\n",
              "      <td>Josefine Christiansen</td>\n",
              "      <td>female</td>\n",
              "      <td>Frederiksberg</td>\n",
              "      <td>Sjælland</td>\n",
              "      <td>josefine.christiansen@example.com</td>\n",
              "      <td>1997-10-16T16:18:03.726Z</td>\n",
              "      <td>https://randomuser.me/api/portraits/women/59.jpg</td>\n",
              "    </tr>\n",
              "    <tr>\n",
              "      <th>7</th>\n",
              "      <td>آرمیتا کوتی</td>\n",
              "      <td>female</td>\n",
              "      <td>ملارد</td>\n",
              "      <td>هرمزگان</td>\n",
              "      <td>armyt.khwty@example.com</td>\n",
              "      <td>1954-10-19T15:02:02.589Z</td>\n",
              "      <td>https://randomuser.me/api/portraits/women/72.jpg</td>\n",
              "    </tr>\n",
              "    <tr>\n",
              "      <th>8</th>\n",
              "      <td>Leo Roy</td>\n",
              "      <td>male</td>\n",
              "      <td>Chesterville</td>\n",
              "      <td>Nova Scotia</td>\n",
              "      <td>leo.roy@example.com</td>\n",
              "      <td>1981-05-08T11:54:39.683Z</td>\n",
              "      <td>https://randomuser.me/api/portraits/men/47.jpg</td>\n",
              "    </tr>\n",
              "    <tr>\n",
              "      <th>9</th>\n",
              "      <td>Ebba Klopper</td>\n",
              "      <td>female</td>\n",
              "      <td>Kraggenburg</td>\n",
              "      <td>Friesland</td>\n",
              "      <td>ebba.klopper@example.com</td>\n",
              "      <td>1945-11-30T01:56:08.733Z</td>\n",
              "      <td>https://randomuser.me/api/portraits/women/74.jpg</td>\n",
              "    </tr>\n",
              "  </tbody>\n",
              "</table>\n",
              "</div>\n",
              "      <button class=\"colab-df-convert\" onclick=\"convertToInteractive('df-9532581d-1c5f-4bbf-b598-ddccff767f49')\"\n",
              "              title=\"Convert this dataframe to an interactive table.\"\n",
              "              style=\"display:none;\">\n",
              "        \n",
              "  <svg xmlns=\"http://www.w3.org/2000/svg\" height=\"24px\"viewBox=\"0 0 24 24\"\n",
              "       width=\"24px\">\n",
              "    <path d=\"M0 0h24v24H0V0z\" fill=\"none\"/>\n",
              "    <path d=\"M18.56 5.44l.94 2.06.94-2.06 2.06-.94-2.06-.94-.94-2.06-.94 2.06-2.06.94zm-11 1L8.5 8.5l.94-2.06 2.06-.94-2.06-.94L8.5 2.5l-.94 2.06-2.06.94zm10 10l.94 2.06.94-2.06 2.06-.94-2.06-.94-.94-2.06-.94 2.06-2.06.94z\"/><path d=\"M17.41 7.96l-1.37-1.37c-.4-.4-.92-.59-1.43-.59-.52 0-1.04.2-1.43.59L10.3 9.45l-7.72 7.72c-.78.78-.78 2.05 0 2.83L4 21.41c.39.39.9.59 1.41.59.51 0 1.02-.2 1.41-.59l7.78-7.78 2.81-2.81c.8-.78.8-2.07 0-2.86zM5.41 20L4 18.59l7.72-7.72 1.47 1.35L5.41 20z\"/>\n",
              "  </svg>\n",
              "      </button>\n",
              "      \n",
              "  <style>\n",
              "    .colab-df-container {\n",
              "      display:flex;\n",
              "      flex-wrap:wrap;\n",
              "      gap: 12px;\n",
              "    }\n",
              "\n",
              "    .colab-df-convert {\n",
              "      background-color: #E8F0FE;\n",
              "      border: none;\n",
              "      border-radius: 50%;\n",
              "      cursor: pointer;\n",
              "      display: none;\n",
              "      fill: #1967D2;\n",
              "      height: 32px;\n",
              "      padding: 0 0 0 0;\n",
              "      width: 32px;\n",
              "    }\n",
              "\n",
              "    .colab-df-convert:hover {\n",
              "      background-color: #E2EBFA;\n",
              "      box-shadow: 0px 1px 2px rgba(60, 64, 67, 0.3), 0px 1px 3px 1px rgba(60, 64, 67, 0.15);\n",
              "      fill: #174EA6;\n",
              "    }\n",
              "\n",
              "    [theme=dark] .colab-df-convert {\n",
              "      background-color: #3B4455;\n",
              "      fill: #D2E3FC;\n",
              "    }\n",
              "\n",
              "    [theme=dark] .colab-df-convert:hover {\n",
              "      background-color: #434B5C;\n",
              "      box-shadow: 0px 1px 3px 1px rgba(0, 0, 0, 0.15);\n",
              "      filter: drop-shadow(0px 1px 2px rgba(0, 0, 0, 0.3));\n",
              "      fill: #FFFFFF;\n",
              "    }\n",
              "  </style>\n",
              "\n",
              "      <script>\n",
              "        const buttonEl =\n",
              "          document.querySelector('#df-9532581d-1c5f-4bbf-b598-ddccff767f49 button.colab-df-convert');\n",
              "        buttonEl.style.display =\n",
              "          google.colab.kernel.accessAllowed ? 'block' : 'none';\n",
              "\n",
              "        async function convertToInteractive(key) {\n",
              "          const element = document.querySelector('#df-9532581d-1c5f-4bbf-b598-ddccff767f49');\n",
              "          const dataTable =\n",
              "            await google.colab.kernel.invokeFunction('convertToInteractive',\n",
              "                                                     [key], {});\n",
              "          if (!dataTable) return;\n",
              "\n",
              "          const docLinkHtml = 'Like what you see? Visit the ' +\n",
              "            '<a target=\"_blank\" href=https://colab.research.google.com/notebooks/data_table.ipynb>data table notebook</a>'\n",
              "            + ' to learn more about interactive tables.';\n",
              "          element.innerHTML = '';\n",
              "          dataTable['output_type'] = 'display_data';\n",
              "          await google.colab.output.renderOutput(dataTable, element);\n",
              "          const docLink = document.createElement('div');\n",
              "          docLink.innerHTML = docLinkHtml;\n",
              "          element.appendChild(docLink);\n",
              "        }\n",
              "      </script>\n",
              "    </div>\n",
              "  </div>\n",
              "  "
            ]
          },
          "metadata": {},
          "execution_count": 66
        }
      ]
    },
    {
      "cell_type": "markdown",
      "source": [
        "## Example 2: Fruitvice API\n",
        "\n",
        "Another, more common way to use APIs, is through `requests` library. The next lab, Requests and HTTP, will contain more information about requests.\n",
        "\n",
        "We will start by importing all required libraries.\n"
      ],
      "metadata": {
        "id": "tRvyex5pWQe5"
      }
    },
    {
      "cell_type": "code",
      "source": [
        "import requests\n",
        "import json"
      ],
      "metadata": {
        "id": "1eJcGW9yWR3Y"
      },
      "execution_count": null,
      "outputs": []
    },
    {
      "cell_type": "code",
      "source": [
        "data = requests.get(\"https://www.fruityvice.com/api/fruit/all\")"
      ],
      "metadata": {
        "id": "gtHFGXl6Wb9J"
      },
      "execution_count": null,
      "outputs": []
    },
    {
      "cell_type": "code",
      "source": [
        "results = json.loads(data.text)"
      ],
      "metadata": {
        "id": "MiPmPG_cWdTc"
      },
      "execution_count": null,
      "outputs": []
    },
    {
      "cell_type": "code",
      "source": [
        "pd.DataFrame(results)"
      ],
      "metadata": {
        "colab": {
          "base_uri": "https://localhost:8080/",
          "height": 332
        },
        "id": "3DZ7zVLpWiC3",
        "outputId": "1104d5d3-573c-404a-949d-b15ff19fcbdf"
      },
      "execution_count": null,
      "outputs": [
        {
          "output_type": "execute_result",
          "data": {
            "text/plain": [
              "           genus          name  id           family             order  \\\n",
              "0          Malus         Apple   6         Rosaceae           Rosales   \n",
              "1         Prunus       Apricot  35         Rosaceae           Rosales   \n",
              "2         Persea       Avocado  84        Lauraceae          Laurales   \n",
              "3           Musa        Banana   1         Musaceae      Zingiberales   \n",
              "4          Rubus    Blackberry  64         Rosaceae           Rosales   \n",
              "5       Fragaria     Blueberry  33         Rosaceae           Rosales   \n",
              "6         Prunus        Cherry   9         Rosaceae           Rosales   \n",
              "7      Theobroma     Chocolate  88        Malvaceae          Malvales   \n",
              "8      Vaccinium     Cranberry  87        Ericaceae          Ericales   \n",
              "9   Selenicereus   Dragonfruit  80        Cactaceae    Caryophyllales   \n",
              "10         Durio        Durian  60        Malvaceae          Malvales   \n",
              "11    Sellowiana        Feijoa  76        Myrtaceae        Myrtoideae   \n",
              "12         Ficus           Fig  68         Moraceae           Rosales   \n",
              "13         Ribes    Gooseberry  69  Grossulariaceae      Saxifragales   \n",
              "14         Vitis         Grape  81         Vitaceae           Vitales   \n",
              "15         Vitis        Grapes  47         Vitaceae           Vitales   \n",
              "16         Malus    GreenApple  72         Rosaceae           Rosales   \n",
              "17       Psidium         Guava  37        Myrtaceae          Myrtales   \n",
              "18       Apteryx          Kiwi  66    Actinidiaceae  Struthioniformes   \n",
              "19     Actinidia     Kiwifruit  85    Actinidiaceae          Ericales   \n",
              "20        Citrus         Lemon  26         Rutaceae        Sapindales   \n",
              "21        Citrus          Lime  44         Rutaceae        Sapindales   \n",
              "22     Vaccinium   Lingonberry  65        Ericaceae          Ericales   \n",
              "23        Litchi        Lychee  67      Sapindaceae        Sapindales   \n",
              "24     Mangifera         Mango  27    Anacardiaceae        Sapindales   \n",
              "25       Cucumis         Melon  41    Cucurbitaceae     Cucurbitaceae   \n",
              "26         Morus         Morus  82         Moraceae           Rosales   \n",
              "27        Citrus        Orange   2         Rutaceae        Sapindales   \n",
              "28        Carica        Papaya  42       Caricaceae         Caricacea   \n",
              "29    Passiflora  Passionfruit  70   Passifloraceae      Malpighiales   \n",
              "30        Prunus         Peach  86         Rosaceae           Rosales   \n",
              "31         Pyrus          Pear   4         Rosaceae           Rosales   \n",
              "32     Diospyros     Persimmon  52        Ebenaceae           Rosales   \n",
              "33        Ananas     Pineapple  10     Bromeliaceae            Poales   \n",
              "34     Cactaceae      Pitahaya  78        Cactaceae    Caryophyllales   \n",
              "35        Prunus          Plum  71         Rosaceae           Rosales   \n",
              "36        Punica   Pomegranate  79       Lythraceae          Myrtales   \n",
              "37         Rubus     Raspberry  23         Rosaceae           Rosales   \n",
              "38      Fragaria    Strawberry   3         Rosaceae           Rosales   \n",
              "39        Citrus     Tangerine  77         Rutaceae        Sapindales   \n",
              "40       Solanum        Tomato   5       Solanaceae         Solanales   \n",
              "41     Citrullus    Watermelon  25    Cucurbitaceae      Cucurbitales   \n",
              "\n",
              "                                           nutritions  \n",
              "0   {'carbohydrates': 11.4, 'protein': 0.3, 'fat':...  \n",
              "1   {'carbohydrates': 3.9, 'protein': 0.5, 'fat': ...  \n",
              "2   {'carbohydrates': 8.53, 'protein': 2, 'fat': 1...  \n",
              "3   {'carbohydrates': 22, 'protein': 1, 'fat': 0.2...  \n",
              "4   {'carbohydrates': 9, 'protein': 1.3, 'fat': 0....  \n",
              "5   {'carbohydrates': 5.5, 'protein': 0, 'fat': 0....  \n",
              "6   {'carbohydrates': 12, 'protein': 1, 'fat': 0.3...  \n",
              "7   {'carbohydrates': 58, 'protein': 8.51, 'fat': ...  \n",
              "8   {'carbohydrates': 12.2, 'protein': 0.4, 'fat':...  \n",
              "9   {'carbohydrates': 9, 'protein': 9, 'fat': 1.5,...  \n",
              "10  {'carbohydrates': 27.1, 'protein': 1.5, 'fat':...  \n",
              "11  {'carbohydrates': 8, 'protein': 0.6, 'fat': 0....  \n",
              "12  {'carbohydrates': 19, 'protein': 0.8, 'fat': 0...  \n",
              "13  {'carbohydrates': 10, 'protein': 0.9, 'fat': 0...  \n",
              "14  {'carbohydrates': 18.1, 'protein': 0.72, 'fat'...  \n",
              "15  {'carbohydrates': 18.1, 'protein': 0.72, 'fat'...  \n",
              "16  {'carbohydrates': 3.1, 'protein': 0.4, 'fat': ...  \n",
              "17  {'carbohydrates': 14, 'protein': 2.6, 'fat': 1...  \n",
              "18  {'carbohydrates': 15, 'protein': 1.1, 'fat': 0...  \n",
              "19  {'carbohydrates': 14.6, 'protein': 1.14, 'fat'...  \n",
              "20  {'carbohydrates': 9, 'protein': 1.1, 'fat': 0....  \n",
              "21  {'carbohydrates': 8.4, 'protein': 0.3, 'fat': ...  \n",
              "22  {'carbohydrates': 11.3, 'protein': 0.75, 'fat'...  \n",
              "23  {'carbohydrates': 17, 'protein': 0.8, 'fat': 0...  \n",
              "24  {'carbohydrates': 15, 'protein': 0.82, 'fat': ...  \n",
              "25  {'carbohydrates': 8, 'protein': 0, 'fat': 0, '...  \n",
              "26  {'carbohydrates': 9.8, 'protein': 1.44, 'fat':...  \n",
              "27  {'carbohydrates': 8.3, 'protein': 1, 'fat': 0....  \n",
              "28  {'carbohydrates': 11, 'protein': 0, 'fat': 0.4...  \n",
              "29  {'carbohydrates': 22.4, 'protein': 2.2, 'fat':...  \n",
              "30  {'carbohydrates': 9.5, 'protein': 0.9, 'fat': ...  \n",
              "31  {'carbohydrates': 15, 'protein': 0.4, 'fat': 0...  \n",
              "32  {'carbohydrates': 18, 'protein': 0, 'fat': 0, ...  \n",
              "33  {'carbohydrates': 13.12, 'protein': 0.54, 'fat...  \n",
              "34  {'carbohydrates': 7, 'protein': 1, 'fat': 0.4,...  \n",
              "35  {'carbohydrates': 11.4, 'protein': 0.7, 'fat':...  \n",
              "36  {'carbohydrates': 18.7, 'protein': 1.7, 'fat':...  \n",
              "37  {'carbohydrates': 12, 'protein': 1.2, 'fat': 0...  \n",
              "38  {'carbohydrates': 5.5, 'protein': 0.8, 'fat': ...  \n",
              "39  {'carbohydrates': 8.3, 'protein': 0, 'fat': 0....  \n",
              "40  {'carbohydrates': 3.9, 'protein': 0.9, 'fat': ...  \n",
              "41  {'carbohydrates': 8, 'protein': 0.6, 'fat': 0....  "
            ],
            "text/html": [
              "\n",
              "  <div id=\"df-89d08efc-925d-41d9-b0ea-0b38ac58791d\">\n",
              "    <div class=\"colab-df-container\">\n",
              "      <div>\n",
              "<style scoped>\n",
              "    .dataframe tbody tr th:only-of-type {\n",
              "        vertical-align: middle;\n",
              "    }\n",
              "\n",
              "    .dataframe tbody tr th {\n",
              "        vertical-align: top;\n",
              "    }\n",
              "\n",
              "    .dataframe thead th {\n",
              "        text-align: right;\n",
              "    }\n",
              "</style>\n",
              "<table border=\"1\" class=\"dataframe\">\n",
              "  <thead>\n",
              "    <tr style=\"text-align: right;\">\n",
              "      <th></th>\n",
              "      <th>genus</th>\n",
              "      <th>name</th>\n",
              "      <th>id</th>\n",
              "      <th>family</th>\n",
              "      <th>order</th>\n",
              "      <th>nutritions</th>\n",
              "    </tr>\n",
              "  </thead>\n",
              "  <tbody>\n",
              "    <tr>\n",
              "      <th>0</th>\n",
              "      <td>Malus</td>\n",
              "      <td>Apple</td>\n",
              "      <td>6</td>\n",
              "      <td>Rosaceae</td>\n",
              "      <td>Rosales</td>\n",
              "      <td>{'carbohydrates': 11.4, 'protein': 0.3, 'fat':...</td>\n",
              "    </tr>\n",
              "    <tr>\n",
              "      <th>1</th>\n",
              "      <td>Prunus</td>\n",
              "      <td>Apricot</td>\n",
              "      <td>35</td>\n",
              "      <td>Rosaceae</td>\n",
              "      <td>Rosales</td>\n",
              "      <td>{'carbohydrates': 3.9, 'protein': 0.5, 'fat': ...</td>\n",
              "    </tr>\n",
              "    <tr>\n",
              "      <th>2</th>\n",
              "      <td>Persea</td>\n",
              "      <td>Avocado</td>\n",
              "      <td>84</td>\n",
              "      <td>Lauraceae</td>\n",
              "      <td>Laurales</td>\n",
              "      <td>{'carbohydrates': 8.53, 'protein': 2, 'fat': 1...</td>\n",
              "    </tr>\n",
              "    <tr>\n",
              "      <th>3</th>\n",
              "      <td>Musa</td>\n",
              "      <td>Banana</td>\n",
              "      <td>1</td>\n",
              "      <td>Musaceae</td>\n",
              "      <td>Zingiberales</td>\n",
              "      <td>{'carbohydrates': 22, 'protein': 1, 'fat': 0.2...</td>\n",
              "    </tr>\n",
              "    <tr>\n",
              "      <th>4</th>\n",
              "      <td>Rubus</td>\n",
              "      <td>Blackberry</td>\n",
              "      <td>64</td>\n",
              "      <td>Rosaceae</td>\n",
              "      <td>Rosales</td>\n",
              "      <td>{'carbohydrates': 9, 'protein': 1.3, 'fat': 0....</td>\n",
              "    </tr>\n",
              "    <tr>\n",
              "      <th>5</th>\n",
              "      <td>Fragaria</td>\n",
              "      <td>Blueberry</td>\n",
              "      <td>33</td>\n",
              "      <td>Rosaceae</td>\n",
              "      <td>Rosales</td>\n",
              "      <td>{'carbohydrates': 5.5, 'protein': 0, 'fat': 0....</td>\n",
              "    </tr>\n",
              "    <tr>\n",
              "      <th>6</th>\n",
              "      <td>Prunus</td>\n",
              "      <td>Cherry</td>\n",
              "      <td>9</td>\n",
              "      <td>Rosaceae</td>\n",
              "      <td>Rosales</td>\n",
              "      <td>{'carbohydrates': 12, 'protein': 1, 'fat': 0.3...</td>\n",
              "    </tr>\n",
              "    <tr>\n",
              "      <th>7</th>\n",
              "      <td>Theobroma</td>\n",
              "      <td>Chocolate</td>\n",
              "      <td>88</td>\n",
              "      <td>Malvaceae</td>\n",
              "      <td>Malvales</td>\n",
              "      <td>{'carbohydrates': 58, 'protein': 8.51, 'fat': ...</td>\n",
              "    </tr>\n",
              "    <tr>\n",
              "      <th>8</th>\n",
              "      <td>Vaccinium</td>\n",
              "      <td>Cranberry</td>\n",
              "      <td>87</td>\n",
              "      <td>Ericaceae</td>\n",
              "      <td>Ericales</td>\n",
              "      <td>{'carbohydrates': 12.2, 'protein': 0.4, 'fat':...</td>\n",
              "    </tr>\n",
              "    <tr>\n",
              "      <th>9</th>\n",
              "      <td>Selenicereus</td>\n",
              "      <td>Dragonfruit</td>\n",
              "      <td>80</td>\n",
              "      <td>Cactaceae</td>\n",
              "      <td>Caryophyllales</td>\n",
              "      <td>{'carbohydrates': 9, 'protein': 9, 'fat': 1.5,...</td>\n",
              "    </tr>\n",
              "    <tr>\n",
              "      <th>10</th>\n",
              "      <td>Durio</td>\n",
              "      <td>Durian</td>\n",
              "      <td>60</td>\n",
              "      <td>Malvaceae</td>\n",
              "      <td>Malvales</td>\n",
              "      <td>{'carbohydrates': 27.1, 'protein': 1.5, 'fat':...</td>\n",
              "    </tr>\n",
              "    <tr>\n",
              "      <th>11</th>\n",
              "      <td>Sellowiana</td>\n",
              "      <td>Feijoa</td>\n",
              "      <td>76</td>\n",
              "      <td>Myrtaceae</td>\n",
              "      <td>Myrtoideae</td>\n",
              "      <td>{'carbohydrates': 8, 'protein': 0.6, 'fat': 0....</td>\n",
              "    </tr>\n",
              "    <tr>\n",
              "      <th>12</th>\n",
              "      <td>Ficus</td>\n",
              "      <td>Fig</td>\n",
              "      <td>68</td>\n",
              "      <td>Moraceae</td>\n",
              "      <td>Rosales</td>\n",
              "      <td>{'carbohydrates': 19, 'protein': 0.8, 'fat': 0...</td>\n",
              "    </tr>\n",
              "    <tr>\n",
              "      <th>13</th>\n",
              "      <td>Ribes</td>\n",
              "      <td>Gooseberry</td>\n",
              "      <td>69</td>\n",
              "      <td>Grossulariaceae</td>\n",
              "      <td>Saxifragales</td>\n",
              "      <td>{'carbohydrates': 10, 'protein': 0.9, 'fat': 0...</td>\n",
              "    </tr>\n",
              "    <tr>\n",
              "      <th>14</th>\n",
              "      <td>Vitis</td>\n",
              "      <td>Grape</td>\n",
              "      <td>81</td>\n",
              "      <td>Vitaceae</td>\n",
              "      <td>Vitales</td>\n",
              "      <td>{'carbohydrates': 18.1, 'protein': 0.72, 'fat'...</td>\n",
              "    </tr>\n",
              "    <tr>\n",
              "      <th>15</th>\n",
              "      <td>Vitis</td>\n",
              "      <td>Grapes</td>\n",
              "      <td>47</td>\n",
              "      <td>Vitaceae</td>\n",
              "      <td>Vitales</td>\n",
              "      <td>{'carbohydrates': 18.1, 'protein': 0.72, 'fat'...</td>\n",
              "    </tr>\n",
              "    <tr>\n",
              "      <th>16</th>\n",
              "      <td>Malus</td>\n",
              "      <td>GreenApple</td>\n",
              "      <td>72</td>\n",
              "      <td>Rosaceae</td>\n",
              "      <td>Rosales</td>\n",
              "      <td>{'carbohydrates': 3.1, 'protein': 0.4, 'fat': ...</td>\n",
              "    </tr>\n",
              "    <tr>\n",
              "      <th>17</th>\n",
              "      <td>Psidium</td>\n",
              "      <td>Guava</td>\n",
              "      <td>37</td>\n",
              "      <td>Myrtaceae</td>\n",
              "      <td>Myrtales</td>\n",
              "      <td>{'carbohydrates': 14, 'protein': 2.6, 'fat': 1...</td>\n",
              "    </tr>\n",
              "    <tr>\n",
              "      <th>18</th>\n",
              "      <td>Apteryx</td>\n",
              "      <td>Kiwi</td>\n",
              "      <td>66</td>\n",
              "      <td>Actinidiaceae</td>\n",
              "      <td>Struthioniformes</td>\n",
              "      <td>{'carbohydrates': 15, 'protein': 1.1, 'fat': 0...</td>\n",
              "    </tr>\n",
              "    <tr>\n",
              "      <th>19</th>\n",
              "      <td>Actinidia</td>\n",
              "      <td>Kiwifruit</td>\n",
              "      <td>85</td>\n",
              "      <td>Actinidiaceae</td>\n",
              "      <td>Ericales</td>\n",
              "      <td>{'carbohydrates': 14.6, 'protein': 1.14, 'fat'...</td>\n",
              "    </tr>\n",
              "    <tr>\n",
              "      <th>20</th>\n",
              "      <td>Citrus</td>\n",
              "      <td>Lemon</td>\n",
              "      <td>26</td>\n",
              "      <td>Rutaceae</td>\n",
              "      <td>Sapindales</td>\n",
              "      <td>{'carbohydrates': 9, 'protein': 1.1, 'fat': 0....</td>\n",
              "    </tr>\n",
              "    <tr>\n",
              "      <th>21</th>\n",
              "      <td>Citrus</td>\n",
              "      <td>Lime</td>\n",
              "      <td>44</td>\n",
              "      <td>Rutaceae</td>\n",
              "      <td>Sapindales</td>\n",
              "      <td>{'carbohydrates': 8.4, 'protein': 0.3, 'fat': ...</td>\n",
              "    </tr>\n",
              "    <tr>\n",
              "      <th>22</th>\n",
              "      <td>Vaccinium</td>\n",
              "      <td>Lingonberry</td>\n",
              "      <td>65</td>\n",
              "      <td>Ericaceae</td>\n",
              "      <td>Ericales</td>\n",
              "      <td>{'carbohydrates': 11.3, 'protein': 0.75, 'fat'...</td>\n",
              "    </tr>\n",
              "    <tr>\n",
              "      <th>23</th>\n",
              "      <td>Litchi</td>\n",
              "      <td>Lychee</td>\n",
              "      <td>67</td>\n",
              "      <td>Sapindaceae</td>\n",
              "      <td>Sapindales</td>\n",
              "      <td>{'carbohydrates': 17, 'protein': 0.8, 'fat': 0...</td>\n",
              "    </tr>\n",
              "    <tr>\n",
              "      <th>24</th>\n",
              "      <td>Mangifera</td>\n",
              "      <td>Mango</td>\n",
              "      <td>27</td>\n",
              "      <td>Anacardiaceae</td>\n",
              "      <td>Sapindales</td>\n",
              "      <td>{'carbohydrates': 15, 'protein': 0.82, 'fat': ...</td>\n",
              "    </tr>\n",
              "    <tr>\n",
              "      <th>25</th>\n",
              "      <td>Cucumis</td>\n",
              "      <td>Melon</td>\n",
              "      <td>41</td>\n",
              "      <td>Cucurbitaceae</td>\n",
              "      <td>Cucurbitaceae</td>\n",
              "      <td>{'carbohydrates': 8, 'protein': 0, 'fat': 0, '...</td>\n",
              "    </tr>\n",
              "    <tr>\n",
              "      <th>26</th>\n",
              "      <td>Morus</td>\n",
              "      <td>Morus</td>\n",
              "      <td>82</td>\n",
              "      <td>Moraceae</td>\n",
              "      <td>Rosales</td>\n",
              "      <td>{'carbohydrates': 9.8, 'protein': 1.44, 'fat':...</td>\n",
              "    </tr>\n",
              "    <tr>\n",
              "      <th>27</th>\n",
              "      <td>Citrus</td>\n",
              "      <td>Orange</td>\n",
              "      <td>2</td>\n",
              "      <td>Rutaceae</td>\n",
              "      <td>Sapindales</td>\n",
              "      <td>{'carbohydrates': 8.3, 'protein': 1, 'fat': 0....</td>\n",
              "    </tr>\n",
              "    <tr>\n",
              "      <th>28</th>\n",
              "      <td>Carica</td>\n",
              "      <td>Papaya</td>\n",
              "      <td>42</td>\n",
              "      <td>Caricaceae</td>\n",
              "      <td>Caricacea</td>\n",
              "      <td>{'carbohydrates': 11, 'protein': 0, 'fat': 0.4...</td>\n",
              "    </tr>\n",
              "    <tr>\n",
              "      <th>29</th>\n",
              "      <td>Passiflora</td>\n",
              "      <td>Passionfruit</td>\n",
              "      <td>70</td>\n",
              "      <td>Passifloraceae</td>\n",
              "      <td>Malpighiales</td>\n",
              "      <td>{'carbohydrates': 22.4, 'protein': 2.2, 'fat':...</td>\n",
              "    </tr>\n",
              "    <tr>\n",
              "      <th>30</th>\n",
              "      <td>Prunus</td>\n",
              "      <td>Peach</td>\n",
              "      <td>86</td>\n",
              "      <td>Rosaceae</td>\n",
              "      <td>Rosales</td>\n",
              "      <td>{'carbohydrates': 9.5, 'protein': 0.9, 'fat': ...</td>\n",
              "    </tr>\n",
              "    <tr>\n",
              "      <th>31</th>\n",
              "      <td>Pyrus</td>\n",
              "      <td>Pear</td>\n",
              "      <td>4</td>\n",
              "      <td>Rosaceae</td>\n",
              "      <td>Rosales</td>\n",
              "      <td>{'carbohydrates': 15, 'protein': 0.4, 'fat': 0...</td>\n",
              "    </tr>\n",
              "    <tr>\n",
              "      <th>32</th>\n",
              "      <td>Diospyros</td>\n",
              "      <td>Persimmon</td>\n",
              "      <td>52</td>\n",
              "      <td>Ebenaceae</td>\n",
              "      <td>Rosales</td>\n",
              "      <td>{'carbohydrates': 18, 'protein': 0, 'fat': 0, ...</td>\n",
              "    </tr>\n",
              "    <tr>\n",
              "      <th>33</th>\n",
              "      <td>Ananas</td>\n",
              "      <td>Pineapple</td>\n",
              "      <td>10</td>\n",
              "      <td>Bromeliaceae</td>\n",
              "      <td>Poales</td>\n",
              "      <td>{'carbohydrates': 13.12, 'protein': 0.54, 'fat...</td>\n",
              "    </tr>\n",
              "    <tr>\n",
              "      <th>34</th>\n",
              "      <td>Cactaceae</td>\n",
              "      <td>Pitahaya</td>\n",
              "      <td>78</td>\n",
              "      <td>Cactaceae</td>\n",
              "      <td>Caryophyllales</td>\n",
              "      <td>{'carbohydrates': 7, 'protein': 1, 'fat': 0.4,...</td>\n",
              "    </tr>\n",
              "    <tr>\n",
              "      <th>35</th>\n",
              "      <td>Prunus</td>\n",
              "      <td>Plum</td>\n",
              "      <td>71</td>\n",
              "      <td>Rosaceae</td>\n",
              "      <td>Rosales</td>\n",
              "      <td>{'carbohydrates': 11.4, 'protein': 0.7, 'fat':...</td>\n",
              "    </tr>\n",
              "    <tr>\n",
              "      <th>36</th>\n",
              "      <td>Punica</td>\n",
              "      <td>Pomegranate</td>\n",
              "      <td>79</td>\n",
              "      <td>Lythraceae</td>\n",
              "      <td>Myrtales</td>\n",
              "      <td>{'carbohydrates': 18.7, 'protein': 1.7, 'fat':...</td>\n",
              "    </tr>\n",
              "    <tr>\n",
              "      <th>37</th>\n",
              "      <td>Rubus</td>\n",
              "      <td>Raspberry</td>\n",
              "      <td>23</td>\n",
              "      <td>Rosaceae</td>\n",
              "      <td>Rosales</td>\n",
              "      <td>{'carbohydrates': 12, 'protein': 1.2, 'fat': 0...</td>\n",
              "    </tr>\n",
              "    <tr>\n",
              "      <th>38</th>\n",
              "      <td>Fragaria</td>\n",
              "      <td>Strawberry</td>\n",
              "      <td>3</td>\n",
              "      <td>Rosaceae</td>\n",
              "      <td>Rosales</td>\n",
              "      <td>{'carbohydrates': 5.5, 'protein': 0.8, 'fat': ...</td>\n",
              "    </tr>\n",
              "    <tr>\n",
              "      <th>39</th>\n",
              "      <td>Citrus</td>\n",
              "      <td>Tangerine</td>\n",
              "      <td>77</td>\n",
              "      <td>Rutaceae</td>\n",
              "      <td>Sapindales</td>\n",
              "      <td>{'carbohydrates': 8.3, 'protein': 0, 'fat': 0....</td>\n",
              "    </tr>\n",
              "    <tr>\n",
              "      <th>40</th>\n",
              "      <td>Solanum</td>\n",
              "      <td>Tomato</td>\n",
              "      <td>5</td>\n",
              "      <td>Solanaceae</td>\n",
              "      <td>Solanales</td>\n",
              "      <td>{'carbohydrates': 3.9, 'protein': 0.9, 'fat': ...</td>\n",
              "    </tr>\n",
              "    <tr>\n",
              "      <th>41</th>\n",
              "      <td>Citrullus</td>\n",
              "      <td>Watermelon</td>\n",
              "      <td>25</td>\n",
              "      <td>Cucurbitaceae</td>\n",
              "      <td>Cucurbitales</td>\n",
              "      <td>{'carbohydrates': 8, 'protein': 0.6, 'fat': 0....</td>\n",
              "    </tr>\n",
              "  </tbody>\n",
              "</table>\n",
              "</div>\n",
              "      <button class=\"colab-df-convert\" onclick=\"convertToInteractive('df-89d08efc-925d-41d9-b0ea-0b38ac58791d')\"\n",
              "              title=\"Convert this dataframe to an interactive table.\"\n",
              "              style=\"display:none;\">\n",
              "        \n",
              "  <svg xmlns=\"http://www.w3.org/2000/svg\" height=\"24px\"viewBox=\"0 0 24 24\"\n",
              "       width=\"24px\">\n",
              "    <path d=\"M0 0h24v24H0V0z\" fill=\"none\"/>\n",
              "    <path d=\"M18.56 5.44l.94 2.06.94-2.06 2.06-.94-2.06-.94-.94-2.06-.94 2.06-2.06.94zm-11 1L8.5 8.5l.94-2.06 2.06-.94-2.06-.94L8.5 2.5l-.94 2.06-2.06.94zm10 10l.94 2.06.94-2.06 2.06-.94-2.06-.94-.94-2.06-.94 2.06-2.06.94z\"/><path d=\"M17.41 7.96l-1.37-1.37c-.4-.4-.92-.59-1.43-.59-.52 0-1.04.2-1.43.59L10.3 9.45l-7.72 7.72c-.78.78-.78 2.05 0 2.83L4 21.41c.39.39.9.59 1.41.59.51 0 1.02-.2 1.41-.59l7.78-7.78 2.81-2.81c.8-.78.8-2.07 0-2.86zM5.41 20L4 18.59l7.72-7.72 1.47 1.35L5.41 20z\"/>\n",
              "  </svg>\n",
              "      </button>\n",
              "      \n",
              "  <style>\n",
              "    .colab-df-container {\n",
              "      display:flex;\n",
              "      flex-wrap:wrap;\n",
              "      gap: 12px;\n",
              "    }\n",
              "\n",
              "    .colab-df-convert {\n",
              "      background-color: #E8F0FE;\n",
              "      border: none;\n",
              "      border-radius: 50%;\n",
              "      cursor: pointer;\n",
              "      display: none;\n",
              "      fill: #1967D2;\n",
              "      height: 32px;\n",
              "      padding: 0 0 0 0;\n",
              "      width: 32px;\n",
              "    }\n",
              "\n",
              "    .colab-df-convert:hover {\n",
              "      background-color: #E2EBFA;\n",
              "      box-shadow: 0px 1px 2px rgba(60, 64, 67, 0.3), 0px 1px 3px 1px rgba(60, 64, 67, 0.15);\n",
              "      fill: #174EA6;\n",
              "    }\n",
              "\n",
              "    [theme=dark] .colab-df-convert {\n",
              "      background-color: #3B4455;\n",
              "      fill: #D2E3FC;\n",
              "    }\n",
              "\n",
              "    [theme=dark] .colab-df-convert:hover {\n",
              "      background-color: #434B5C;\n",
              "      box-shadow: 0px 1px 3px 1px rgba(0, 0, 0, 0.15);\n",
              "      filter: drop-shadow(0px 1px 2px rgba(0, 0, 0, 0.3));\n",
              "      fill: #FFFFFF;\n",
              "    }\n",
              "  </style>\n",
              "\n",
              "      <script>\n",
              "        const buttonEl =\n",
              "          document.querySelector('#df-89d08efc-925d-41d9-b0ea-0b38ac58791d button.colab-df-convert');\n",
              "        buttonEl.style.display =\n",
              "          google.colab.kernel.accessAllowed ? 'block' : 'none';\n",
              "\n",
              "        async function convertToInteractive(key) {\n",
              "          const element = document.querySelector('#df-89d08efc-925d-41d9-b0ea-0b38ac58791d');\n",
              "          const dataTable =\n",
              "            await google.colab.kernel.invokeFunction('convertToInteractive',\n",
              "                                                     [key], {});\n",
              "          if (!dataTable) return;\n",
              "\n",
              "          const docLinkHtml = 'Like what you see? Visit the ' +\n",
              "            '<a target=\"_blank\" href=https://colab.research.google.com/notebooks/data_table.ipynb>data table notebook</a>'\n",
              "            + ' to learn more about interactive tables.';\n",
              "          element.innerHTML = '';\n",
              "          dataTable['output_type'] = 'display_data';\n",
              "          await google.colab.output.renderOutput(dataTable, element);\n",
              "          const docLink = document.createElement('div');\n",
              "          docLink.innerHTML = docLinkHtml;\n",
              "          element.appendChild(docLink);\n",
              "        }\n",
              "      </script>\n",
              "    </div>\n",
              "  </div>\n",
              "  "
            ]
          },
          "metadata": {},
          "execution_count": 70
        }
      ]
    },
    {
      "cell_type": "code",
      "source": [
        "df2 = pd.json_normalize(results)\n",
        "\n",
        "df2"
      ],
      "metadata": {
        "colab": {
          "base_uri": "https://localhost:8080/",
          "height": 1000
        },
        "id": "TpIBKyZzWt7g",
        "outputId": "ba4c4b3b-5864-44bb-c444-2286feeec0dc"
      },
      "execution_count": null,
      "outputs": [
        {
          "output_type": "execute_result",
          "data": {
            "text/plain": [
              "           genus          name  id           family             order  \\\n",
              "0          Malus         Apple   6         Rosaceae           Rosales   \n",
              "1         Prunus       Apricot  35         Rosaceae           Rosales   \n",
              "2         Persea       Avocado  84        Lauraceae          Laurales   \n",
              "3           Musa        Banana   1         Musaceae      Zingiberales   \n",
              "4          Rubus    Blackberry  64         Rosaceae           Rosales   \n",
              "5       Fragaria     Blueberry  33         Rosaceae           Rosales   \n",
              "6         Prunus        Cherry   9         Rosaceae           Rosales   \n",
              "7      Theobroma     Chocolate  88        Malvaceae          Malvales   \n",
              "8      Vaccinium     Cranberry  87        Ericaceae          Ericales   \n",
              "9   Selenicereus   Dragonfruit  80        Cactaceae    Caryophyllales   \n",
              "10         Durio        Durian  60        Malvaceae          Malvales   \n",
              "11    Sellowiana        Feijoa  76        Myrtaceae        Myrtoideae   \n",
              "12         Ficus           Fig  68         Moraceae           Rosales   \n",
              "13         Ribes    Gooseberry  69  Grossulariaceae      Saxifragales   \n",
              "14         Vitis         Grape  81         Vitaceae           Vitales   \n",
              "15         Vitis        Grapes  47         Vitaceae           Vitales   \n",
              "16         Malus    GreenApple  72         Rosaceae           Rosales   \n",
              "17       Psidium         Guava  37        Myrtaceae          Myrtales   \n",
              "18       Apteryx          Kiwi  66    Actinidiaceae  Struthioniformes   \n",
              "19     Actinidia     Kiwifruit  85    Actinidiaceae          Ericales   \n",
              "20        Citrus         Lemon  26         Rutaceae        Sapindales   \n",
              "21        Citrus          Lime  44         Rutaceae        Sapindales   \n",
              "22     Vaccinium   Lingonberry  65        Ericaceae          Ericales   \n",
              "23        Litchi        Lychee  67      Sapindaceae        Sapindales   \n",
              "24     Mangifera         Mango  27    Anacardiaceae        Sapindales   \n",
              "25       Cucumis         Melon  41    Cucurbitaceae     Cucurbitaceae   \n",
              "26         Morus         Morus  82         Moraceae           Rosales   \n",
              "27        Citrus        Orange   2         Rutaceae        Sapindales   \n",
              "28        Carica        Papaya  42       Caricaceae         Caricacea   \n",
              "29    Passiflora  Passionfruit  70   Passifloraceae      Malpighiales   \n",
              "30        Prunus         Peach  86         Rosaceae           Rosales   \n",
              "31         Pyrus          Pear   4         Rosaceae           Rosales   \n",
              "32     Diospyros     Persimmon  52        Ebenaceae           Rosales   \n",
              "33        Ananas     Pineapple  10     Bromeliaceae            Poales   \n",
              "34     Cactaceae      Pitahaya  78        Cactaceae    Caryophyllales   \n",
              "35        Prunus          Plum  71         Rosaceae           Rosales   \n",
              "36        Punica   Pomegranate  79       Lythraceae          Myrtales   \n",
              "37         Rubus     Raspberry  23         Rosaceae           Rosales   \n",
              "38      Fragaria    Strawberry   3         Rosaceae           Rosales   \n",
              "39        Citrus     Tangerine  77         Rutaceae        Sapindales   \n",
              "40       Solanum        Tomato   5       Solanaceae         Solanales   \n",
              "41     Citrullus    Watermelon  25    Cucurbitaceae      Cucurbitales   \n",
              "\n",
              "    nutritions.carbohydrates  nutritions.protein  nutritions.fat  \\\n",
              "0                      11.40                0.30            0.40   \n",
              "1                       3.90                0.50            0.10   \n",
              "2                       8.53                2.00           14.66   \n",
              "3                      22.00                1.00            0.20   \n",
              "4                       9.00                1.30            0.40   \n",
              "5                       5.50                0.00            0.40   \n",
              "6                      12.00                1.00            0.30   \n",
              "7                      58.00                8.51           30.57   \n",
              "8                      12.20                0.40            0.10   \n",
              "9                       9.00                9.00            1.50   \n",
              "10                     27.10                1.50            5.30   \n",
              "11                      8.00                0.60            0.40   \n",
              "12                     19.00                0.80            0.30   \n",
              "13                     10.00                0.90            0.60   \n",
              "14                     18.10                0.72            0.16   \n",
              "15                     18.10                0.72            0.16   \n",
              "16                      3.10                0.40            0.10   \n",
              "17                     14.00                2.60            1.00   \n",
              "18                     15.00                1.10            0.50   \n",
              "19                     14.60                1.14            0.50   \n",
              "20                      9.00                1.10            0.30   \n",
              "21                      8.40                0.30            0.10   \n",
              "22                     11.30                0.75            0.34   \n",
              "23                     17.00                0.80            0.44   \n",
              "24                     15.00                0.82            0.38   \n",
              "25                      8.00                0.00            0.00   \n",
              "26                      9.80                1.44            0.39   \n",
              "27                      8.30                1.00            0.20   \n",
              "28                     11.00                0.00            0.40   \n",
              "29                     22.40                2.20            0.70   \n",
              "30                      9.50                0.90            0.25   \n",
              "31                     15.00                0.40            0.10   \n",
              "32                     18.00                0.00            0.00   \n",
              "33                     13.12                0.54            0.12   \n",
              "34                      7.00                1.00            0.40   \n",
              "35                     11.40                0.70            0.28   \n",
              "36                     18.70                1.70            1.20   \n",
              "37                     12.00                1.20            0.70   \n",
              "38                      5.50                0.80            0.40   \n",
              "39                      8.30                0.00            0.40   \n",
              "40                      3.90                0.90            0.20   \n",
              "41                      8.00                0.60            0.20   \n",
              "\n",
              "    nutritions.calories  nutritions.sugar  \n",
              "0                    52             10.30  \n",
              "1                    15              3.20  \n",
              "2                   160              0.66  \n",
              "3                    96             17.20  \n",
              "4                    40              4.50  \n",
              "5                    29              5.40  \n",
              "6                    50              8.00  \n",
              "7                   531             54.00  \n",
              "8                    46              4.00  \n",
              "9                    60              8.00  \n",
              "10                  147              6.75  \n",
              "11                   44              3.00  \n",
              "12                   74             16.00  \n",
              "13                   44              0.00  \n",
              "14                   69             16.00  \n",
              "15                   69             15.48  \n",
              "16                   21              6.40  \n",
              "17                   68              9.00  \n",
              "18                   61              9.00  \n",
              "19                   61              8.90  \n",
              "20                   29              2.50  \n",
              "21                   25              1.70  \n",
              "22                   50              5.74  \n",
              "23                   66             15.00  \n",
              "24                   60             13.70  \n",
              "25                   34              8.00  \n",
              "26                   43              8.10  \n",
              "27                   43              8.20  \n",
              "28                   43              1.00  \n",
              "29                   97             11.20  \n",
              "30                   39              8.40  \n",
              "31                   57             10.00  \n",
              "32                   81             18.00  \n",
              "33                   50              9.85  \n",
              "34                   36              3.00  \n",
              "35                   46              9.92  \n",
              "36                   83             13.70  \n",
              "37                   53              4.40  \n",
              "38                   29              5.40  \n",
              "39                   45              9.10  \n",
              "40                   74              2.60  \n",
              "41                   30              6.00  "
            ],
            "text/html": [
              "\n",
              "  <div id=\"df-8a4c95fb-4880-4040-89c3-ab14d8f5adf6\">\n",
              "    <div class=\"colab-df-container\">\n",
              "      <div>\n",
              "<style scoped>\n",
              "    .dataframe tbody tr th:only-of-type {\n",
              "        vertical-align: middle;\n",
              "    }\n",
              "\n",
              "    .dataframe tbody tr th {\n",
              "        vertical-align: top;\n",
              "    }\n",
              "\n",
              "    .dataframe thead th {\n",
              "        text-align: right;\n",
              "    }\n",
              "</style>\n",
              "<table border=\"1\" class=\"dataframe\">\n",
              "  <thead>\n",
              "    <tr style=\"text-align: right;\">\n",
              "      <th></th>\n",
              "      <th>genus</th>\n",
              "      <th>name</th>\n",
              "      <th>id</th>\n",
              "      <th>family</th>\n",
              "      <th>order</th>\n",
              "      <th>nutritions.carbohydrates</th>\n",
              "      <th>nutritions.protein</th>\n",
              "      <th>nutritions.fat</th>\n",
              "      <th>nutritions.calories</th>\n",
              "      <th>nutritions.sugar</th>\n",
              "    </tr>\n",
              "  </thead>\n",
              "  <tbody>\n",
              "    <tr>\n",
              "      <th>0</th>\n",
              "      <td>Malus</td>\n",
              "      <td>Apple</td>\n",
              "      <td>6</td>\n",
              "      <td>Rosaceae</td>\n",
              "      <td>Rosales</td>\n",
              "      <td>11.40</td>\n",
              "      <td>0.30</td>\n",
              "      <td>0.40</td>\n",
              "      <td>52</td>\n",
              "      <td>10.30</td>\n",
              "    </tr>\n",
              "    <tr>\n",
              "      <th>1</th>\n",
              "      <td>Prunus</td>\n",
              "      <td>Apricot</td>\n",
              "      <td>35</td>\n",
              "      <td>Rosaceae</td>\n",
              "      <td>Rosales</td>\n",
              "      <td>3.90</td>\n",
              "      <td>0.50</td>\n",
              "      <td>0.10</td>\n",
              "      <td>15</td>\n",
              "      <td>3.20</td>\n",
              "    </tr>\n",
              "    <tr>\n",
              "      <th>2</th>\n",
              "      <td>Persea</td>\n",
              "      <td>Avocado</td>\n",
              "      <td>84</td>\n",
              "      <td>Lauraceae</td>\n",
              "      <td>Laurales</td>\n",
              "      <td>8.53</td>\n",
              "      <td>2.00</td>\n",
              "      <td>14.66</td>\n",
              "      <td>160</td>\n",
              "      <td>0.66</td>\n",
              "    </tr>\n",
              "    <tr>\n",
              "      <th>3</th>\n",
              "      <td>Musa</td>\n",
              "      <td>Banana</td>\n",
              "      <td>1</td>\n",
              "      <td>Musaceae</td>\n",
              "      <td>Zingiberales</td>\n",
              "      <td>22.00</td>\n",
              "      <td>1.00</td>\n",
              "      <td>0.20</td>\n",
              "      <td>96</td>\n",
              "      <td>17.20</td>\n",
              "    </tr>\n",
              "    <tr>\n",
              "      <th>4</th>\n",
              "      <td>Rubus</td>\n",
              "      <td>Blackberry</td>\n",
              "      <td>64</td>\n",
              "      <td>Rosaceae</td>\n",
              "      <td>Rosales</td>\n",
              "      <td>9.00</td>\n",
              "      <td>1.30</td>\n",
              "      <td>0.40</td>\n",
              "      <td>40</td>\n",
              "      <td>4.50</td>\n",
              "    </tr>\n",
              "    <tr>\n",
              "      <th>5</th>\n",
              "      <td>Fragaria</td>\n",
              "      <td>Blueberry</td>\n",
              "      <td>33</td>\n",
              "      <td>Rosaceae</td>\n",
              "      <td>Rosales</td>\n",
              "      <td>5.50</td>\n",
              "      <td>0.00</td>\n",
              "      <td>0.40</td>\n",
              "      <td>29</td>\n",
              "      <td>5.40</td>\n",
              "    </tr>\n",
              "    <tr>\n",
              "      <th>6</th>\n",
              "      <td>Prunus</td>\n",
              "      <td>Cherry</td>\n",
              "      <td>9</td>\n",
              "      <td>Rosaceae</td>\n",
              "      <td>Rosales</td>\n",
              "      <td>12.00</td>\n",
              "      <td>1.00</td>\n",
              "      <td>0.30</td>\n",
              "      <td>50</td>\n",
              "      <td>8.00</td>\n",
              "    </tr>\n",
              "    <tr>\n",
              "      <th>7</th>\n",
              "      <td>Theobroma</td>\n",
              "      <td>Chocolate</td>\n",
              "      <td>88</td>\n",
              "      <td>Malvaceae</td>\n",
              "      <td>Malvales</td>\n",
              "      <td>58.00</td>\n",
              "      <td>8.51</td>\n",
              "      <td>30.57</td>\n",
              "      <td>531</td>\n",
              "      <td>54.00</td>\n",
              "    </tr>\n",
              "    <tr>\n",
              "      <th>8</th>\n",
              "      <td>Vaccinium</td>\n",
              "      <td>Cranberry</td>\n",
              "      <td>87</td>\n",
              "      <td>Ericaceae</td>\n",
              "      <td>Ericales</td>\n",
              "      <td>12.20</td>\n",
              "      <td>0.40</td>\n",
              "      <td>0.10</td>\n",
              "      <td>46</td>\n",
              "      <td>4.00</td>\n",
              "    </tr>\n",
              "    <tr>\n",
              "      <th>9</th>\n",
              "      <td>Selenicereus</td>\n",
              "      <td>Dragonfruit</td>\n",
              "      <td>80</td>\n",
              "      <td>Cactaceae</td>\n",
              "      <td>Caryophyllales</td>\n",
              "      <td>9.00</td>\n",
              "      <td>9.00</td>\n",
              "      <td>1.50</td>\n",
              "      <td>60</td>\n",
              "      <td>8.00</td>\n",
              "    </tr>\n",
              "    <tr>\n",
              "      <th>10</th>\n",
              "      <td>Durio</td>\n",
              "      <td>Durian</td>\n",
              "      <td>60</td>\n",
              "      <td>Malvaceae</td>\n",
              "      <td>Malvales</td>\n",
              "      <td>27.10</td>\n",
              "      <td>1.50</td>\n",
              "      <td>5.30</td>\n",
              "      <td>147</td>\n",
              "      <td>6.75</td>\n",
              "    </tr>\n",
              "    <tr>\n",
              "      <th>11</th>\n",
              "      <td>Sellowiana</td>\n",
              "      <td>Feijoa</td>\n",
              "      <td>76</td>\n",
              "      <td>Myrtaceae</td>\n",
              "      <td>Myrtoideae</td>\n",
              "      <td>8.00</td>\n",
              "      <td>0.60</td>\n",
              "      <td>0.40</td>\n",
              "      <td>44</td>\n",
              "      <td>3.00</td>\n",
              "    </tr>\n",
              "    <tr>\n",
              "      <th>12</th>\n",
              "      <td>Ficus</td>\n",
              "      <td>Fig</td>\n",
              "      <td>68</td>\n",
              "      <td>Moraceae</td>\n",
              "      <td>Rosales</td>\n",
              "      <td>19.00</td>\n",
              "      <td>0.80</td>\n",
              "      <td>0.30</td>\n",
              "      <td>74</td>\n",
              "      <td>16.00</td>\n",
              "    </tr>\n",
              "    <tr>\n",
              "      <th>13</th>\n",
              "      <td>Ribes</td>\n",
              "      <td>Gooseberry</td>\n",
              "      <td>69</td>\n",
              "      <td>Grossulariaceae</td>\n",
              "      <td>Saxifragales</td>\n",
              "      <td>10.00</td>\n",
              "      <td>0.90</td>\n",
              "      <td>0.60</td>\n",
              "      <td>44</td>\n",
              "      <td>0.00</td>\n",
              "    </tr>\n",
              "    <tr>\n",
              "      <th>14</th>\n",
              "      <td>Vitis</td>\n",
              "      <td>Grape</td>\n",
              "      <td>81</td>\n",
              "      <td>Vitaceae</td>\n",
              "      <td>Vitales</td>\n",
              "      <td>18.10</td>\n",
              "      <td>0.72</td>\n",
              "      <td>0.16</td>\n",
              "      <td>69</td>\n",
              "      <td>16.00</td>\n",
              "    </tr>\n",
              "    <tr>\n",
              "      <th>15</th>\n",
              "      <td>Vitis</td>\n",
              "      <td>Grapes</td>\n",
              "      <td>47</td>\n",
              "      <td>Vitaceae</td>\n",
              "      <td>Vitales</td>\n",
              "      <td>18.10</td>\n",
              "      <td>0.72</td>\n",
              "      <td>0.16</td>\n",
              "      <td>69</td>\n",
              "      <td>15.48</td>\n",
              "    </tr>\n",
              "    <tr>\n",
              "      <th>16</th>\n",
              "      <td>Malus</td>\n",
              "      <td>GreenApple</td>\n",
              "      <td>72</td>\n",
              "      <td>Rosaceae</td>\n",
              "      <td>Rosales</td>\n",
              "      <td>3.10</td>\n",
              "      <td>0.40</td>\n",
              "      <td>0.10</td>\n",
              "      <td>21</td>\n",
              "      <td>6.40</td>\n",
              "    </tr>\n",
              "    <tr>\n",
              "      <th>17</th>\n",
              "      <td>Psidium</td>\n",
              "      <td>Guava</td>\n",
              "      <td>37</td>\n",
              "      <td>Myrtaceae</td>\n",
              "      <td>Myrtales</td>\n",
              "      <td>14.00</td>\n",
              "      <td>2.60</td>\n",
              "      <td>1.00</td>\n",
              "      <td>68</td>\n",
              "      <td>9.00</td>\n",
              "    </tr>\n",
              "    <tr>\n",
              "      <th>18</th>\n",
              "      <td>Apteryx</td>\n",
              "      <td>Kiwi</td>\n",
              "      <td>66</td>\n",
              "      <td>Actinidiaceae</td>\n",
              "      <td>Struthioniformes</td>\n",
              "      <td>15.00</td>\n",
              "      <td>1.10</td>\n",
              "      <td>0.50</td>\n",
              "      <td>61</td>\n",
              "      <td>9.00</td>\n",
              "    </tr>\n",
              "    <tr>\n",
              "      <th>19</th>\n",
              "      <td>Actinidia</td>\n",
              "      <td>Kiwifruit</td>\n",
              "      <td>85</td>\n",
              "      <td>Actinidiaceae</td>\n",
              "      <td>Ericales</td>\n",
              "      <td>14.60</td>\n",
              "      <td>1.14</td>\n",
              "      <td>0.50</td>\n",
              "      <td>61</td>\n",
              "      <td>8.90</td>\n",
              "    </tr>\n",
              "    <tr>\n",
              "      <th>20</th>\n",
              "      <td>Citrus</td>\n",
              "      <td>Lemon</td>\n",
              "      <td>26</td>\n",
              "      <td>Rutaceae</td>\n",
              "      <td>Sapindales</td>\n",
              "      <td>9.00</td>\n",
              "      <td>1.10</td>\n",
              "      <td>0.30</td>\n",
              "      <td>29</td>\n",
              "      <td>2.50</td>\n",
              "    </tr>\n",
              "    <tr>\n",
              "      <th>21</th>\n",
              "      <td>Citrus</td>\n",
              "      <td>Lime</td>\n",
              "      <td>44</td>\n",
              "      <td>Rutaceae</td>\n",
              "      <td>Sapindales</td>\n",
              "      <td>8.40</td>\n",
              "      <td>0.30</td>\n",
              "      <td>0.10</td>\n",
              "      <td>25</td>\n",
              "      <td>1.70</td>\n",
              "    </tr>\n",
              "    <tr>\n",
              "      <th>22</th>\n",
              "      <td>Vaccinium</td>\n",
              "      <td>Lingonberry</td>\n",
              "      <td>65</td>\n",
              "      <td>Ericaceae</td>\n",
              "      <td>Ericales</td>\n",
              "      <td>11.30</td>\n",
              "      <td>0.75</td>\n",
              "      <td>0.34</td>\n",
              "      <td>50</td>\n",
              "      <td>5.74</td>\n",
              "    </tr>\n",
              "    <tr>\n",
              "      <th>23</th>\n",
              "      <td>Litchi</td>\n",
              "      <td>Lychee</td>\n",
              "      <td>67</td>\n",
              "      <td>Sapindaceae</td>\n",
              "      <td>Sapindales</td>\n",
              "      <td>17.00</td>\n",
              "      <td>0.80</td>\n",
              "      <td>0.44</td>\n",
              "      <td>66</td>\n",
              "      <td>15.00</td>\n",
              "    </tr>\n",
              "    <tr>\n",
              "      <th>24</th>\n",
              "      <td>Mangifera</td>\n",
              "      <td>Mango</td>\n",
              "      <td>27</td>\n",
              "      <td>Anacardiaceae</td>\n",
              "      <td>Sapindales</td>\n",
              "      <td>15.00</td>\n",
              "      <td>0.82</td>\n",
              "      <td>0.38</td>\n",
              "      <td>60</td>\n",
              "      <td>13.70</td>\n",
              "    </tr>\n",
              "    <tr>\n",
              "      <th>25</th>\n",
              "      <td>Cucumis</td>\n",
              "      <td>Melon</td>\n",
              "      <td>41</td>\n",
              "      <td>Cucurbitaceae</td>\n",
              "      <td>Cucurbitaceae</td>\n",
              "      <td>8.00</td>\n",
              "      <td>0.00</td>\n",
              "      <td>0.00</td>\n",
              "      <td>34</td>\n",
              "      <td>8.00</td>\n",
              "    </tr>\n",
              "    <tr>\n",
              "      <th>26</th>\n",
              "      <td>Morus</td>\n",
              "      <td>Morus</td>\n",
              "      <td>82</td>\n",
              "      <td>Moraceae</td>\n",
              "      <td>Rosales</td>\n",
              "      <td>9.80</td>\n",
              "      <td>1.44</td>\n",
              "      <td>0.39</td>\n",
              "      <td>43</td>\n",
              "      <td>8.10</td>\n",
              "    </tr>\n",
              "    <tr>\n",
              "      <th>27</th>\n",
              "      <td>Citrus</td>\n",
              "      <td>Orange</td>\n",
              "      <td>2</td>\n",
              "      <td>Rutaceae</td>\n",
              "      <td>Sapindales</td>\n",
              "      <td>8.30</td>\n",
              "      <td>1.00</td>\n",
              "      <td>0.20</td>\n",
              "      <td>43</td>\n",
              "      <td>8.20</td>\n",
              "    </tr>\n",
              "    <tr>\n",
              "      <th>28</th>\n",
              "      <td>Carica</td>\n",
              "      <td>Papaya</td>\n",
              "      <td>42</td>\n",
              "      <td>Caricaceae</td>\n",
              "      <td>Caricacea</td>\n",
              "      <td>11.00</td>\n",
              "      <td>0.00</td>\n",
              "      <td>0.40</td>\n",
              "      <td>43</td>\n",
              "      <td>1.00</td>\n",
              "    </tr>\n",
              "    <tr>\n",
              "      <th>29</th>\n",
              "      <td>Passiflora</td>\n",
              "      <td>Passionfruit</td>\n",
              "      <td>70</td>\n",
              "      <td>Passifloraceae</td>\n",
              "      <td>Malpighiales</td>\n",
              "      <td>22.40</td>\n",
              "      <td>2.20</td>\n",
              "      <td>0.70</td>\n",
              "      <td>97</td>\n",
              "      <td>11.20</td>\n",
              "    </tr>\n",
              "    <tr>\n",
              "      <th>30</th>\n",
              "      <td>Prunus</td>\n",
              "      <td>Peach</td>\n",
              "      <td>86</td>\n",
              "      <td>Rosaceae</td>\n",
              "      <td>Rosales</td>\n",
              "      <td>9.50</td>\n",
              "      <td>0.90</td>\n",
              "      <td>0.25</td>\n",
              "      <td>39</td>\n",
              "      <td>8.40</td>\n",
              "    </tr>\n",
              "    <tr>\n",
              "      <th>31</th>\n",
              "      <td>Pyrus</td>\n",
              "      <td>Pear</td>\n",
              "      <td>4</td>\n",
              "      <td>Rosaceae</td>\n",
              "      <td>Rosales</td>\n",
              "      <td>15.00</td>\n",
              "      <td>0.40</td>\n",
              "      <td>0.10</td>\n",
              "      <td>57</td>\n",
              "      <td>10.00</td>\n",
              "    </tr>\n",
              "    <tr>\n",
              "      <th>32</th>\n",
              "      <td>Diospyros</td>\n",
              "      <td>Persimmon</td>\n",
              "      <td>52</td>\n",
              "      <td>Ebenaceae</td>\n",
              "      <td>Rosales</td>\n",
              "      <td>18.00</td>\n",
              "      <td>0.00</td>\n",
              "      <td>0.00</td>\n",
              "      <td>81</td>\n",
              "      <td>18.00</td>\n",
              "    </tr>\n",
              "    <tr>\n",
              "      <th>33</th>\n",
              "      <td>Ananas</td>\n",
              "      <td>Pineapple</td>\n",
              "      <td>10</td>\n",
              "      <td>Bromeliaceae</td>\n",
              "      <td>Poales</td>\n",
              "      <td>13.12</td>\n",
              "      <td>0.54</td>\n",
              "      <td>0.12</td>\n",
              "      <td>50</td>\n",
              "      <td>9.85</td>\n",
              "    </tr>\n",
              "    <tr>\n",
              "      <th>34</th>\n",
              "      <td>Cactaceae</td>\n",
              "      <td>Pitahaya</td>\n",
              "      <td>78</td>\n",
              "      <td>Cactaceae</td>\n",
              "      <td>Caryophyllales</td>\n",
              "      <td>7.00</td>\n",
              "      <td>1.00</td>\n",
              "      <td>0.40</td>\n",
              "      <td>36</td>\n",
              "      <td>3.00</td>\n",
              "    </tr>\n",
              "    <tr>\n",
              "      <th>35</th>\n",
              "      <td>Prunus</td>\n",
              "      <td>Plum</td>\n",
              "      <td>71</td>\n",
              "      <td>Rosaceae</td>\n",
              "      <td>Rosales</td>\n",
              "      <td>11.40</td>\n",
              "      <td>0.70</td>\n",
              "      <td>0.28</td>\n",
              "      <td>46</td>\n",
              "      <td>9.92</td>\n",
              "    </tr>\n",
              "    <tr>\n",
              "      <th>36</th>\n",
              "      <td>Punica</td>\n",
              "      <td>Pomegranate</td>\n",
              "      <td>79</td>\n",
              "      <td>Lythraceae</td>\n",
              "      <td>Myrtales</td>\n",
              "      <td>18.70</td>\n",
              "      <td>1.70</td>\n",
              "      <td>1.20</td>\n",
              "      <td>83</td>\n",
              "      <td>13.70</td>\n",
              "    </tr>\n",
              "    <tr>\n",
              "      <th>37</th>\n",
              "      <td>Rubus</td>\n",
              "      <td>Raspberry</td>\n",
              "      <td>23</td>\n",
              "      <td>Rosaceae</td>\n",
              "      <td>Rosales</td>\n",
              "      <td>12.00</td>\n",
              "      <td>1.20</td>\n",
              "      <td>0.70</td>\n",
              "      <td>53</td>\n",
              "      <td>4.40</td>\n",
              "    </tr>\n",
              "    <tr>\n",
              "      <th>38</th>\n",
              "      <td>Fragaria</td>\n",
              "      <td>Strawberry</td>\n",
              "      <td>3</td>\n",
              "      <td>Rosaceae</td>\n",
              "      <td>Rosales</td>\n",
              "      <td>5.50</td>\n",
              "      <td>0.80</td>\n",
              "      <td>0.40</td>\n",
              "      <td>29</td>\n",
              "      <td>5.40</td>\n",
              "    </tr>\n",
              "    <tr>\n",
              "      <th>39</th>\n",
              "      <td>Citrus</td>\n",
              "      <td>Tangerine</td>\n",
              "      <td>77</td>\n",
              "      <td>Rutaceae</td>\n",
              "      <td>Sapindales</td>\n",
              "      <td>8.30</td>\n",
              "      <td>0.00</td>\n",
              "      <td>0.40</td>\n",
              "      <td>45</td>\n",
              "      <td>9.10</td>\n",
              "    </tr>\n",
              "    <tr>\n",
              "      <th>40</th>\n",
              "      <td>Solanum</td>\n",
              "      <td>Tomato</td>\n",
              "      <td>5</td>\n",
              "      <td>Solanaceae</td>\n",
              "      <td>Solanales</td>\n",
              "      <td>3.90</td>\n",
              "      <td>0.90</td>\n",
              "      <td>0.20</td>\n",
              "      <td>74</td>\n",
              "      <td>2.60</td>\n",
              "    </tr>\n",
              "    <tr>\n",
              "      <th>41</th>\n",
              "      <td>Citrullus</td>\n",
              "      <td>Watermelon</td>\n",
              "      <td>25</td>\n",
              "      <td>Cucurbitaceae</td>\n",
              "      <td>Cucurbitales</td>\n",
              "      <td>8.00</td>\n",
              "      <td>0.60</td>\n",
              "      <td>0.20</td>\n",
              "      <td>30</td>\n",
              "      <td>6.00</td>\n",
              "    </tr>\n",
              "  </tbody>\n",
              "</table>\n",
              "</div>\n",
              "      <button class=\"colab-df-convert\" onclick=\"convertToInteractive('df-8a4c95fb-4880-4040-89c3-ab14d8f5adf6')\"\n",
              "              title=\"Convert this dataframe to an interactive table.\"\n",
              "              style=\"display:none;\">\n",
              "        \n",
              "  <svg xmlns=\"http://www.w3.org/2000/svg\" height=\"24px\"viewBox=\"0 0 24 24\"\n",
              "       width=\"24px\">\n",
              "    <path d=\"M0 0h24v24H0V0z\" fill=\"none\"/>\n",
              "    <path d=\"M18.56 5.44l.94 2.06.94-2.06 2.06-.94-2.06-.94-.94-2.06-.94 2.06-2.06.94zm-11 1L8.5 8.5l.94-2.06 2.06-.94-2.06-.94L8.5 2.5l-.94 2.06-2.06.94zm10 10l.94 2.06.94-2.06 2.06-.94-2.06-.94-.94-2.06-.94 2.06-2.06.94z\"/><path d=\"M17.41 7.96l-1.37-1.37c-.4-.4-.92-.59-1.43-.59-.52 0-1.04.2-1.43.59L10.3 9.45l-7.72 7.72c-.78.78-.78 2.05 0 2.83L4 21.41c.39.39.9.59 1.41.59.51 0 1.02-.2 1.41-.59l7.78-7.78 2.81-2.81c.8-.78.8-2.07 0-2.86zM5.41 20L4 18.59l7.72-7.72 1.47 1.35L5.41 20z\"/>\n",
              "  </svg>\n",
              "      </button>\n",
              "      \n",
              "  <style>\n",
              "    .colab-df-container {\n",
              "      display:flex;\n",
              "      flex-wrap:wrap;\n",
              "      gap: 12px;\n",
              "    }\n",
              "\n",
              "    .colab-df-convert {\n",
              "      background-color: #E8F0FE;\n",
              "      border: none;\n",
              "      border-radius: 50%;\n",
              "      cursor: pointer;\n",
              "      display: none;\n",
              "      fill: #1967D2;\n",
              "      height: 32px;\n",
              "      padding: 0 0 0 0;\n",
              "      width: 32px;\n",
              "    }\n",
              "\n",
              "    .colab-df-convert:hover {\n",
              "      background-color: #E2EBFA;\n",
              "      box-shadow: 0px 1px 2px rgba(60, 64, 67, 0.3), 0px 1px 3px 1px rgba(60, 64, 67, 0.15);\n",
              "      fill: #174EA6;\n",
              "    }\n",
              "\n",
              "    [theme=dark] .colab-df-convert {\n",
              "      background-color: #3B4455;\n",
              "      fill: #D2E3FC;\n",
              "    }\n",
              "\n",
              "    [theme=dark] .colab-df-convert:hover {\n",
              "      background-color: #434B5C;\n",
              "      box-shadow: 0px 1px 3px 1px rgba(0, 0, 0, 0.15);\n",
              "      filter: drop-shadow(0px 1px 2px rgba(0, 0, 0, 0.3));\n",
              "      fill: #FFFFFF;\n",
              "    }\n",
              "  </style>\n",
              "\n",
              "      <script>\n",
              "        const buttonEl =\n",
              "          document.querySelector('#df-8a4c95fb-4880-4040-89c3-ab14d8f5adf6 button.colab-df-convert');\n",
              "        buttonEl.style.display =\n",
              "          google.colab.kernel.accessAllowed ? 'block' : 'none';\n",
              "\n",
              "        async function convertToInteractive(key) {\n",
              "          const element = document.querySelector('#df-8a4c95fb-4880-4040-89c3-ab14d8f5adf6');\n",
              "          const dataTable =\n",
              "            await google.colab.kernel.invokeFunction('convertToInteractive',\n",
              "                                                     [key], {});\n",
              "          if (!dataTable) return;\n",
              "\n",
              "          const docLinkHtml = 'Like what you see? Visit the ' +\n",
              "            '<a target=\"_blank\" href=https://colab.research.google.com/notebooks/data_table.ipynb>data table notebook</a>'\n",
              "            + ' to learn more about interactive tables.';\n",
              "          element.innerHTML = '';\n",
              "          dataTable['output_type'] = 'display_data';\n",
              "          await google.colab.output.renderOutput(dataTable, element);\n",
              "          const docLink = document.createElement('div');\n",
              "          docLink.innerHTML = docLinkHtml;\n",
              "          element.appendChild(docLink);\n",
              "        }\n",
              "      </script>\n",
              "    </div>\n",
              "  </div>\n",
              "  "
            ]
          },
          "metadata": {},
          "execution_count": 72
        }
      ]
    },
    {
      "cell_type": "code",
      "source": [
        "cherry = df2.loc[df2[\"name\"] == 'Cherry']\n",
        "(cherry.iloc[0]['family']) , (cherry.iloc[0]['genus'])"
      ],
      "metadata": {
        "colab": {
          "base_uri": "https://localhost:8080/"
        },
        "id": "-111RAeeW6VC",
        "outputId": "99205358-67de-43b6-9d89-adb9e882a21c"
      },
      "execution_count": null,
      "outputs": [
        {
          "output_type": "execute_result",
          "data": {
            "text/plain": [
              "('Rosaceae', 'Prunus')"
            ]
          },
          "metadata": {},
          "execution_count": 73
        }
      ]
    },
    {
      "cell_type": "markdown",
      "source": [
        "## Exercise 2\n",
        "In this Exercise, find out how many calories are contained in a banana.\n"
      ],
      "metadata": {
        "id": "_V6a0WJ3XMCX"
      }
    },
    {
      "cell_type": "code",
      "source": [
        "cal_banana = df2.loc[df2[\"name\"] == 'Banana']\n",
        "cal_banana.iloc[0]['nutritions.calories']"
      ],
      "metadata": {
        "colab": {
          "base_uri": "https://localhost:8080/"
        },
        "id": "eBROL7QVXNTM",
        "outputId": "81999c2c-1ef6-4adb-cb50-be5356f76e8b"
      },
      "execution_count": null,
      "outputs": [
        {
          "output_type": "execute_result",
          "data": {
            "text/plain": [
              "96"
            ]
          },
          "metadata": {},
          "execution_count": 74
        }
      ]
    },
    {
      "cell_type": "markdown",
      "source": [
        "## Exercise 3\n",
        "\n",
        "This [page](https://github.com/public-apis/public-apis#animals) contains a list of free public APIs. Choose any API of your interest and use it to load/extract some information, as shown in the example above.\n",
        "1. Using `requests.get(\"url\")` function, load your data.\n"
      ],
      "metadata": {
        "id": "tQ1uQxJgXdkR"
      }
    },
    {
      "cell_type": "code",
      "source": [
        "data2 = requests.get(\"https://www.fishwatch.gov/api/species\")\n",
        "results2 = json.loads(data2.text)\n",
        "df3 = pd.DataFrame(results2)\n",
        "df3"
      ],
      "metadata": {
        "colab": {
          "base_uri": "https://localhost:8080/",
          "height": 1000
        },
        "id": "5AY3fikrXeG5",
        "outputId": "da71b3e8-d3e6-40ce-973b-2934c5164e51"
      },
      "execution_count": null,
      "outputs": [
        {
          "output_type": "execute_result",
          "data": {
            "text/plain": [
              "                                    Fishery Management  \\\n",
              "0    <ul>\\n<li><a href=\"https://www.fisheries.noaa....   \n",
              "1    <ul>\\n<li><a href=\"https://www.fisheries.noaa....   \n",
              "2    <ul>\\n<li>\\n<p><a href=\"https://archive.fisher...   \n",
              "3    <ul>\\n<li><a href=\"https://www.fisheries.noaa....   \n",
              "4    <ul>\\n<li>The states and <a href=\"https://www....   \n",
              "..                                                 ...   \n",
              "111  <ul>\\n<li><a href=\"https://www.fisheries.noaa....   \n",
              "112  <ul>\\n<li><a href=\"https://www.greateratlantic...   \n",
              "113  <ul>\\n<li><a href=\"http://sero.nmfs.noaa.gov/\"...   \n",
              "114  <ul>\\n<li><a href=\"https://sero.nmfs.noaa.gov/...   \n",
              "115  <ul>\\n<li>There are two stocks of Atlantic cod...   \n",
              "\n",
              "                                               Habitat  \\\n",
              "0                                                 None   \n",
              "1    <ul>\\n<li>White hake are groundfish, meaning t...   \n",
              "2    <ul>\\n<li>Atlantic chub mackerel are a schooli...   \n",
              "3    <ul>\\n<li>Shortfin squid live in deep and shal...   \n",
              "4    <ul>\\n<li>American lobsters live on the ocean ...   \n",
              "..                                                 ...   \n",
              "111  <ul>\\n<li>Younger pollock live in the mid-wate...   \n",
              "112  <ul>\\n<li>Monkfish live on the ocean floor, ty...   \n",
              "113  <ul>\\n<li>Mahi mahi live near the surface in t...   \n",
              "114  <ul>\\n<li>Cobia are found near structures in t...   \n",
              "115  <ul>\\n<li>Atlantic cod live near the ocean flo...   \n",
              "\n",
              "                                       Habitat Impacts  \\\n",
              "0    Bottomfish fishing operations, typically using...   \n",
              "1    Area closures and gear restrictions protect ha...   \n",
              "2    Area closures and gear restrictions protect ha...   \n",
              "3    Fishing gears used to harvest shortfin squid h...   \n",
              "4    Fishing gears used to harvest American lobster...   \n",
              "..                                                 ...   \n",
              "111  The Alaska pollock fishery uses midwater trawl...   \n",
              "112  Area closures and gear restrictions protect ha...   \n",
              "113  Fishing gear used to catch mahi mahi rarely co...   \n",
              "114  Fishing gear used to catch cobia rarely contac...   \n",
              "115  Area closures and gear restrictions protect ha...   \n",
              "\n",
              "                                         Image Gallery  \\\n",
              "0    [{'src': 'https://origin-east-01-drupal-fishwa...   \n",
              "1    [{'src': 'https://origin-east-01-drupal-fishwa...   \n",
              "2    [{'src': 'https://origin-east-01-drupal-fishwa...   \n",
              "3                                                 None   \n",
              "4    [{'src': 'https://origin-east-01-drupal-fishwa...   \n",
              "..                                                 ...   \n",
              "111  [{'src': 'https://origin-east-01-drupal-fishwa...   \n",
              "112  [{'src': 'https://origin-east-01-drupal-fishwa...   \n",
              "113  [{'src': 'https://origin-east-01-drupal-fishwa...   \n",
              "114  [{'src': 'https://origin-east-01-drupal-fishwa...   \n",
              "115  [{'src': 'https://origin-east-01-drupal-fishwa...   \n",
              "\n",
              "                                              Location Management  \\\n",
              "0    <ul>\\n<li>Crimson jobfish are distributed thro...       None   \n",
              "1    <ul>\\n<li>White hake are found in the northwes...       None   \n",
              "2    <ul>\\n<li>Atlantic chub mackerel in the wester...       None   \n",
              "3    <ul>\\n<li>Shortfin squid inhabits the continen...       None   \n",
              "4    <ul>\\n<li>American lobsters are found in the n...       None   \n",
              "..                                                 ...        ...   \n",
              "111  <ul>\\n<li>Alaska pollock are found throughout ...       None   \n",
              "112  <ul>\\n<li>Monkfish are found in the Northwest ...       None   \n",
              "113  <ul>\\n<li>Mahi mahi are found in the Atlantic,...       None   \n",
              "114  <ul>\\n<li>In U.S. waters, cobia are most abund...       None   \n",
              "115  <ul>\\n<li>In the Northwest Atlantic, cod range...       None   \n",
              "\n",
              "           NOAA Fisheries Region  \\\n",
              "0                Pacific Islands   \n",
              "1               Greater Atlantic   \n",
              "2               Greater Atlantic   \n",
              "3               Greater Atlantic   \n",
              "4               Greater Atlantic   \n",
              "..                           ...   \n",
              "111                       Alaska   \n",
              "112  Greater Atlantic, Southeast   \n",
              "113  Greater Atlantic, Southeast   \n",
              "114  Greater Atlantic, Southeast   \n",
              "115             Greater Atlantic   \n",
              "\n",
              "                                            Population  \\\n",
              "0    The population level is unknown, but the stock...   \n",
              "1    Significantly below target population level. A...   \n",
              "2     The stock has never been assessed. The popula...   \n",
              "3    The population level is unknown. The species h...   \n",
              "4    Above target population levels in the Gulf of ...   \n",
              "..                                                 ...   \n",
              "111  Above target population levels for the Aleutia...   \n",
              "112                    Above target population levels.   \n",
              "113                    Above target population levels.   \n",
              "114  Below target level but fishing rate promotes p...   \n",
              "115  Significantly below target population levels. ...   \n",
              "\n",
              "                                     Population Status  \\\n",
              "0    <ul>\\n<li>There are five stocks of crimson job...   \n",
              "1    <ul>\\n<li>According to the 2019 stock assessme...   \n",
              "2    <p>Atlantic chub mackerel has never been asses...   \n",
              "3    <ul>\\n<li>According to the latest assessment (...   \n",
              "4    <ul>\\n<li>According to the 2020&nbsp;<a href=\"...   \n",
              "..                                                 ...   \n",
              "111  <ul>\\n<li>There are five stocks of walleye pol...   \n",
              "112  <ul>\\n<li>There are two stocks of monkfish: Gu...   \n",
              "113  <ul>\\n<li>Scientists assume populations are ab...   \n",
              "114  <ul>\\n<li>\\n<p>According to the 2020 stock ass...   \n",
              "115  <ul>\\n<li>Gulf of Maine stock:\\n<ul>\\n<li>Acco...   \n",
              "\n",
              "                 Scientific Name  ...  Selenium Serving Weight Servings  \\\n",
              "0    Pristipomoides filamentosus  ...  38.2 mcg    100 g (raw)        1   \n",
              "1               Urophycis tenuis  ...  32.1 mcg    100 g (raw)        1   \n",
              "2                 Scomber colias  ...  44.1 mcg    100 g (raw)        1   \n",
              "3             Illex illecebrosus  ...  44.8 mcg          100 g        1   \n",
              "4             Homarus americanus  ...  41.4 mcg    100 g (raw)        1   \n",
              "..                           ...  ...       ...            ...      ...   \n",
              "111          Gadus chalcogrammus  ...  21.9 mcg    100 g (raw)        1   \n",
              "112           Lophius americanus  ...  36.5 mcg    100 g (raw)        1   \n",
              "113          Coryphaena hippurus  ...  36.5 mcg    100 g (raw)        1   \n",
              "114         Rachycentron canadum  ...  36.5 mcg    100 g (raw)        1   \n",
              "115                 Gadus morhua  ...  33.1 mcg          100 g        1   \n",
              "\n",
              "     Sodium                                             Source Sugars, Total  \\\n",
              "0     64 mg  <p>U.S -wild caught around Hawaii and Pacific ...           0 g   \n",
              "1     72 mg  <p>White hake is wild-caught from Maine to sou...           0 g   \n",
              "2     90 mg  <p>U.S. wild caught from Southern New England ...           0 g   \n",
              "3     44 mg  <p>U.S. wild-caught from Maine to North Caroli...           0 g   \n",
              "4    296 mg  <p>U.S. wild-caught from Maine to North Caroli...           0 g   \n",
              "..      ...                                                ...           ...   \n",
              "111   99 mg  <p>U.S. wild-caught, mainly in the Bering Sea ...           0 g   \n",
              "112   18 mg  <p>U.S. wild-caught from Maine to North Caroli...           0 g   \n",
              "113   88 mg  <p>Wild-caught from Massachusetts to Texas.</p>\\n           0 g   \n",
              "114  135 mg  <p>Wild-caught from Virginia to Texas. Cobia i...           0 g   \n",
              "115   54 mg       <p>Wild-caught from Maine to Virginia.</p>\\n           0 g   \n",
              "\n",
              "                                                 Taste  \\\n",
              "0      <p>Crimson jobfish has a delicate flavor.</p>\\n   \n",
              "1    <p>White hake has a mild, almost sweet&nbsp;ta...   \n",
              "2                    <p>Rich, pronounced flavor.</p>\\n   \n",
              "3      <p>Mild, and subtly sweet.</p>\\n<p>&nbsp;</p>\\n   \n",
              "4                             <p>Mild and sweet.</p>\\n   \n",
              "..                                                 ...   \n",
              "111  <p>Pollock has mild-tasting flesh and is simil...   \n",
              "112                                     <p>Mild.</p>\\n   \n",
              "113  <p>Mahi mahi has a sweet, mild flavor. For a m...   \n",
              "114           <p>Cobia has a sweet, rich flavor.</p>\\n   \n",
              "115  <p>Atlantic cod has a mild clean flavor. It is...   \n",
              "\n",
              "                                               Texture  \\\n",
              "0    <p>Crimson jobfish has&nbsp;a firm texture and...   \n",
              "1    <p>White hake has a soft, delicate texture tha...   \n",
              "2                     <p>Soft, flaky, and moist.</p>\\n   \n",
              "3                             <p>Firm and meaty.</p>\\n   \n",
              "4    <p>The meat is firm and somewhat fibrous. The ...   \n",
              "..                                                 ...   \n",
              "111  <p>Pollock has a relatively fine texture and i...   \n",
              "112  <p>The tail meat is firm, dense, and relativel...   \n",
              "113  <p>Mahi mahi is lean and fairly firm with larg...   \n",
              "114  <p>Cobia is lean, moist, and firm with a nice ...   \n",
              "115  <p>Cod has large flakes. It's less firm than h...   \n",
              "\n",
              "                                 Path         last_update  \n",
              "0           /profiles/crimson-jobfish  06/21/2022 - 12:00  \n",
              "1                /profiles/white-hake  10/05/2022 - 16:06  \n",
              "2    /profiles/atlantic-chub-mackerel  08/11/2022 - 16:16  \n",
              "3            /profiles/shortfin-squid  09/02/2022 - 11:08  \n",
              "4          /profiles/american-lobster  10/11/2022 - 13:05  \n",
              "..                                ...                 ...  \n",
              "111          /profiles/alaska-pollock  10/19/2022 - 16:41  \n",
              "112                /profiles/monkfish  08/10/2022 - 17:32  \n",
              "113      /profiles/atlantic-mahi-mahi  08/03/2022 - 16:19  \n",
              "114                   /profiles/cobia  02/17/2022 - 11:28  \n",
              "115            /profiles/atlantic-cod  02/17/2022 - 12:56  \n",
              "\n",
              "[116 rows x 56 columns]"
            ],
            "text/html": [
              "\n",
              "  <div id=\"df-8f9908a7-d397-4a3f-8598-741e42377784\">\n",
              "    <div class=\"colab-df-container\">\n",
              "      <div>\n",
              "<style scoped>\n",
              "    .dataframe tbody tr th:only-of-type {\n",
              "        vertical-align: middle;\n",
              "    }\n",
              "\n",
              "    .dataframe tbody tr th {\n",
              "        vertical-align: top;\n",
              "    }\n",
              "\n",
              "    .dataframe thead th {\n",
              "        text-align: right;\n",
              "    }\n",
              "</style>\n",
              "<table border=\"1\" class=\"dataframe\">\n",
              "  <thead>\n",
              "    <tr style=\"text-align: right;\">\n",
              "      <th></th>\n",
              "      <th>Fishery Management</th>\n",
              "      <th>Habitat</th>\n",
              "      <th>Habitat Impacts</th>\n",
              "      <th>Image Gallery</th>\n",
              "      <th>Location</th>\n",
              "      <th>Management</th>\n",
              "      <th>NOAA Fisheries Region</th>\n",
              "      <th>Population</th>\n",
              "      <th>Population Status</th>\n",
              "      <th>Scientific Name</th>\n",
              "      <th>...</th>\n",
              "      <th>Selenium</th>\n",
              "      <th>Serving Weight</th>\n",
              "      <th>Servings</th>\n",
              "      <th>Sodium</th>\n",
              "      <th>Source</th>\n",
              "      <th>Sugars, Total</th>\n",
              "      <th>Taste</th>\n",
              "      <th>Texture</th>\n",
              "      <th>Path</th>\n",
              "      <th>last_update</th>\n",
              "    </tr>\n",
              "  </thead>\n",
              "  <tbody>\n",
              "    <tr>\n",
              "      <th>0</th>\n",
              "      <td>&lt;ul&gt;\\n&lt;li&gt;&lt;a href=\"https://www.fisheries.noaa....</td>\n",
              "      <td>None</td>\n",
              "      <td>Bottomfish fishing operations, typically using...</td>\n",
              "      <td>[{'src': 'https://origin-east-01-drupal-fishwa...</td>\n",
              "      <td>&lt;ul&gt;\\n&lt;li&gt;Crimson jobfish are distributed thro...</td>\n",
              "      <td>None</td>\n",
              "      <td>Pacific Islands</td>\n",
              "      <td>The population level is unknown, but the stock...</td>\n",
              "      <td>&lt;ul&gt;\\n&lt;li&gt;There are five stocks of crimson job...</td>\n",
              "      <td>Pristipomoides filamentosus</td>\n",
              "      <td>...</td>\n",
              "      <td>38.2 mcg</td>\n",
              "      <td>100 g (raw)</td>\n",
              "      <td>1</td>\n",
              "      <td>64 mg</td>\n",
              "      <td>&lt;p&gt;U.S -wild caught around Hawaii and Pacific ...</td>\n",
              "      <td>0 g</td>\n",
              "      <td>&lt;p&gt;Crimson jobfish has a delicate flavor.&lt;/p&gt;\\n</td>\n",
              "      <td>&lt;p&gt;Crimson jobfish has&amp;nbsp;a firm texture and...</td>\n",
              "      <td>/profiles/crimson-jobfish</td>\n",
              "      <td>06/21/2022 - 12:00</td>\n",
              "    </tr>\n",
              "    <tr>\n",
              "      <th>1</th>\n",
              "      <td>&lt;ul&gt;\\n&lt;li&gt;&lt;a href=\"https://www.fisheries.noaa....</td>\n",
              "      <td>&lt;ul&gt;\\n&lt;li&gt;White hake are groundfish, meaning t...</td>\n",
              "      <td>Area closures and gear restrictions protect ha...</td>\n",
              "      <td>[{'src': 'https://origin-east-01-drupal-fishwa...</td>\n",
              "      <td>&lt;ul&gt;\\n&lt;li&gt;White hake are found in the northwes...</td>\n",
              "      <td>None</td>\n",
              "      <td>Greater Atlantic</td>\n",
              "      <td>Significantly below target population level. A...</td>\n",
              "      <td>&lt;ul&gt;\\n&lt;li&gt;According to the 2019 stock assessme...</td>\n",
              "      <td>Urophycis tenuis</td>\n",
              "      <td>...</td>\n",
              "      <td>32.1 mcg</td>\n",
              "      <td>100 g (raw)</td>\n",
              "      <td>1</td>\n",
              "      <td>72 mg</td>\n",
              "      <td>&lt;p&gt;White hake is wild-caught from Maine to sou...</td>\n",
              "      <td>0 g</td>\n",
              "      <td>&lt;p&gt;White hake has a mild, almost sweet&amp;nbsp;ta...</td>\n",
              "      <td>&lt;p&gt;White hake has a soft, delicate texture tha...</td>\n",
              "      <td>/profiles/white-hake</td>\n",
              "      <td>10/05/2022 - 16:06</td>\n",
              "    </tr>\n",
              "    <tr>\n",
              "      <th>2</th>\n",
              "      <td>&lt;ul&gt;\\n&lt;li&gt;\\n&lt;p&gt;&lt;a href=\"https://archive.fisher...</td>\n",
              "      <td>&lt;ul&gt;\\n&lt;li&gt;Atlantic chub mackerel are a schooli...</td>\n",
              "      <td>Area closures and gear restrictions protect ha...</td>\n",
              "      <td>[{'src': 'https://origin-east-01-drupal-fishwa...</td>\n",
              "      <td>&lt;ul&gt;\\n&lt;li&gt;Atlantic chub mackerel in the wester...</td>\n",
              "      <td>None</td>\n",
              "      <td>Greater Atlantic</td>\n",
              "      <td>The stock has never been assessed. The popula...</td>\n",
              "      <td>&lt;p&gt;Atlantic chub mackerel has never been asses...</td>\n",
              "      <td>Scomber colias</td>\n",
              "      <td>...</td>\n",
              "      <td>44.1 mcg</td>\n",
              "      <td>100 g (raw)</td>\n",
              "      <td>1</td>\n",
              "      <td>90 mg</td>\n",
              "      <td>&lt;p&gt;U.S. wild caught from Southern New England ...</td>\n",
              "      <td>0 g</td>\n",
              "      <td>&lt;p&gt;Rich, pronounced flavor.&lt;/p&gt;\\n</td>\n",
              "      <td>&lt;p&gt;Soft, flaky, and moist.&lt;/p&gt;\\n</td>\n",
              "      <td>/profiles/atlantic-chub-mackerel</td>\n",
              "      <td>08/11/2022 - 16:16</td>\n",
              "    </tr>\n",
              "    <tr>\n",
              "      <th>3</th>\n",
              "      <td>&lt;ul&gt;\\n&lt;li&gt;&lt;a href=\"https://www.fisheries.noaa....</td>\n",
              "      <td>&lt;ul&gt;\\n&lt;li&gt;Shortfin squid live in deep and shal...</td>\n",
              "      <td>Fishing gears used to harvest shortfin squid h...</td>\n",
              "      <td>None</td>\n",
              "      <td>&lt;ul&gt;\\n&lt;li&gt;Shortfin squid inhabits the continen...</td>\n",
              "      <td>None</td>\n",
              "      <td>Greater Atlantic</td>\n",
              "      <td>The population level is unknown. The species h...</td>\n",
              "      <td>&lt;ul&gt;\\n&lt;li&gt;According to the latest assessment (...</td>\n",
              "      <td>Illex illecebrosus</td>\n",
              "      <td>...</td>\n",
              "      <td>44.8 mcg</td>\n",
              "      <td>100 g</td>\n",
              "      <td>1</td>\n",
              "      <td>44 mg</td>\n",
              "      <td>&lt;p&gt;U.S. wild-caught from Maine to North Caroli...</td>\n",
              "      <td>0 g</td>\n",
              "      <td>&lt;p&gt;Mild, and subtly sweet.&lt;/p&gt;\\n&lt;p&gt;&amp;nbsp;&lt;/p&gt;\\n</td>\n",
              "      <td>&lt;p&gt;Firm and meaty.&lt;/p&gt;\\n</td>\n",
              "      <td>/profiles/shortfin-squid</td>\n",
              "      <td>09/02/2022 - 11:08</td>\n",
              "    </tr>\n",
              "    <tr>\n",
              "      <th>4</th>\n",
              "      <td>&lt;ul&gt;\\n&lt;li&gt;The states and &lt;a href=\"https://www....</td>\n",
              "      <td>&lt;ul&gt;\\n&lt;li&gt;American lobsters live on the ocean ...</td>\n",
              "      <td>Fishing gears used to harvest American lobster...</td>\n",
              "      <td>[{'src': 'https://origin-east-01-drupal-fishwa...</td>\n",
              "      <td>&lt;ul&gt;\\n&lt;li&gt;American lobsters are found in the n...</td>\n",
              "      <td>None</td>\n",
              "      <td>Greater Atlantic</td>\n",
              "      <td>Above target population levels in the Gulf of ...</td>\n",
              "      <td>&lt;ul&gt;\\n&lt;li&gt;According to the 2020&amp;nbsp;&lt;a href=\"...</td>\n",
              "      <td>Homarus americanus</td>\n",
              "      <td>...</td>\n",
              "      <td>41.4 mcg</td>\n",
              "      <td>100 g (raw)</td>\n",
              "      <td>1</td>\n",
              "      <td>296 mg</td>\n",
              "      <td>&lt;p&gt;U.S. wild-caught from Maine to North Caroli...</td>\n",
              "      <td>0 g</td>\n",
              "      <td>&lt;p&gt;Mild and sweet.&lt;/p&gt;\\n</td>\n",
              "      <td>&lt;p&gt;The meat is firm and somewhat fibrous. The ...</td>\n",
              "      <td>/profiles/american-lobster</td>\n",
              "      <td>10/11/2022 - 13:05</td>\n",
              "    </tr>\n",
              "    <tr>\n",
              "      <th>...</th>\n",
              "      <td>...</td>\n",
              "      <td>...</td>\n",
              "      <td>...</td>\n",
              "      <td>...</td>\n",
              "      <td>...</td>\n",
              "      <td>...</td>\n",
              "      <td>...</td>\n",
              "      <td>...</td>\n",
              "      <td>...</td>\n",
              "      <td>...</td>\n",
              "      <td>...</td>\n",
              "      <td>...</td>\n",
              "      <td>...</td>\n",
              "      <td>...</td>\n",
              "      <td>...</td>\n",
              "      <td>...</td>\n",
              "      <td>...</td>\n",
              "      <td>...</td>\n",
              "      <td>...</td>\n",
              "      <td>...</td>\n",
              "      <td>...</td>\n",
              "    </tr>\n",
              "    <tr>\n",
              "      <th>111</th>\n",
              "      <td>&lt;ul&gt;\\n&lt;li&gt;&lt;a href=\"https://www.fisheries.noaa....</td>\n",
              "      <td>&lt;ul&gt;\\n&lt;li&gt;Younger pollock live in the mid-wate...</td>\n",
              "      <td>The Alaska pollock fishery uses midwater trawl...</td>\n",
              "      <td>[{'src': 'https://origin-east-01-drupal-fishwa...</td>\n",
              "      <td>&lt;ul&gt;\\n&lt;li&gt;Alaska pollock are found throughout ...</td>\n",
              "      <td>None</td>\n",
              "      <td>Alaska</td>\n",
              "      <td>Above target population levels for the Aleutia...</td>\n",
              "      <td>&lt;ul&gt;\\n&lt;li&gt;There are five stocks of walleye pol...</td>\n",
              "      <td>Gadus chalcogrammus</td>\n",
              "      <td>...</td>\n",
              "      <td>21.9 mcg</td>\n",
              "      <td>100 g (raw)</td>\n",
              "      <td>1</td>\n",
              "      <td>99 mg</td>\n",
              "      <td>&lt;p&gt;U.S. wild-caught, mainly in the Bering Sea ...</td>\n",
              "      <td>0 g</td>\n",
              "      <td>&lt;p&gt;Pollock has mild-tasting flesh and is simil...</td>\n",
              "      <td>&lt;p&gt;Pollock has a relatively fine texture and i...</td>\n",
              "      <td>/profiles/alaska-pollock</td>\n",
              "      <td>10/19/2022 - 16:41</td>\n",
              "    </tr>\n",
              "    <tr>\n",
              "      <th>112</th>\n",
              "      <td>&lt;ul&gt;\\n&lt;li&gt;&lt;a href=\"https://www.greateratlantic...</td>\n",
              "      <td>&lt;ul&gt;\\n&lt;li&gt;Monkfish live on the ocean floor, ty...</td>\n",
              "      <td>Area closures and gear restrictions protect ha...</td>\n",
              "      <td>[{'src': 'https://origin-east-01-drupal-fishwa...</td>\n",
              "      <td>&lt;ul&gt;\\n&lt;li&gt;Monkfish are found in the Northwest ...</td>\n",
              "      <td>None</td>\n",
              "      <td>Greater Atlantic, Southeast</td>\n",
              "      <td>Above target population levels.</td>\n",
              "      <td>&lt;ul&gt;\\n&lt;li&gt;There are two stocks of monkfish: Gu...</td>\n",
              "      <td>Lophius americanus</td>\n",
              "      <td>...</td>\n",
              "      <td>36.5 mcg</td>\n",
              "      <td>100 g (raw)</td>\n",
              "      <td>1</td>\n",
              "      <td>18 mg</td>\n",
              "      <td>&lt;p&gt;U.S. wild-caught from Maine to North Caroli...</td>\n",
              "      <td>0 g</td>\n",
              "      <td>&lt;p&gt;Mild.&lt;/p&gt;\\n</td>\n",
              "      <td>&lt;p&gt;The tail meat is firm, dense, and relativel...</td>\n",
              "      <td>/profiles/monkfish</td>\n",
              "      <td>08/10/2022 - 17:32</td>\n",
              "    </tr>\n",
              "    <tr>\n",
              "      <th>113</th>\n",
              "      <td>&lt;ul&gt;\\n&lt;li&gt;&lt;a href=\"http://sero.nmfs.noaa.gov/\"...</td>\n",
              "      <td>&lt;ul&gt;\\n&lt;li&gt;Mahi mahi live near the surface in t...</td>\n",
              "      <td>Fishing gear used to catch mahi mahi rarely co...</td>\n",
              "      <td>[{'src': 'https://origin-east-01-drupal-fishwa...</td>\n",
              "      <td>&lt;ul&gt;\\n&lt;li&gt;Mahi mahi are found in the Atlantic,...</td>\n",
              "      <td>None</td>\n",
              "      <td>Greater Atlantic, Southeast</td>\n",
              "      <td>Above target population levels.</td>\n",
              "      <td>&lt;ul&gt;\\n&lt;li&gt;Scientists assume populations are ab...</td>\n",
              "      <td>Coryphaena hippurus</td>\n",
              "      <td>...</td>\n",
              "      <td>36.5 mcg</td>\n",
              "      <td>100 g (raw)</td>\n",
              "      <td>1</td>\n",
              "      <td>88 mg</td>\n",
              "      <td>&lt;p&gt;Wild-caught from Massachusetts to Texas.&lt;/p&gt;\\n</td>\n",
              "      <td>0 g</td>\n",
              "      <td>&lt;p&gt;Mahi mahi has a sweet, mild flavor. For a m...</td>\n",
              "      <td>&lt;p&gt;Mahi mahi is lean and fairly firm with larg...</td>\n",
              "      <td>/profiles/atlantic-mahi-mahi</td>\n",
              "      <td>08/03/2022 - 16:19</td>\n",
              "    </tr>\n",
              "    <tr>\n",
              "      <th>114</th>\n",
              "      <td>&lt;ul&gt;\\n&lt;li&gt;&lt;a href=\"https://sero.nmfs.noaa.gov/...</td>\n",
              "      <td>&lt;ul&gt;\\n&lt;li&gt;Cobia are found near structures in t...</td>\n",
              "      <td>Fishing gear used to catch cobia rarely contac...</td>\n",
              "      <td>[{'src': 'https://origin-east-01-drupal-fishwa...</td>\n",
              "      <td>&lt;ul&gt;\\n&lt;li&gt;In U.S. waters, cobia are most abund...</td>\n",
              "      <td>None</td>\n",
              "      <td>Greater Atlantic, Southeast</td>\n",
              "      <td>Below target level but fishing rate promotes p...</td>\n",
              "      <td>&lt;ul&gt;\\n&lt;li&gt;\\n&lt;p&gt;According to the 2020 stock ass...</td>\n",
              "      <td>Rachycentron canadum</td>\n",
              "      <td>...</td>\n",
              "      <td>36.5 mcg</td>\n",
              "      <td>100 g (raw)</td>\n",
              "      <td>1</td>\n",
              "      <td>135 mg</td>\n",
              "      <td>&lt;p&gt;Wild-caught from Virginia to Texas. Cobia i...</td>\n",
              "      <td>0 g</td>\n",
              "      <td>&lt;p&gt;Cobia has a sweet, rich flavor.&lt;/p&gt;\\n</td>\n",
              "      <td>&lt;p&gt;Cobia is lean, moist, and firm with a nice ...</td>\n",
              "      <td>/profiles/cobia</td>\n",
              "      <td>02/17/2022 - 11:28</td>\n",
              "    </tr>\n",
              "    <tr>\n",
              "      <th>115</th>\n",
              "      <td>&lt;ul&gt;\\n&lt;li&gt;There are two stocks of Atlantic cod...</td>\n",
              "      <td>&lt;ul&gt;\\n&lt;li&gt;Atlantic cod live near the ocean flo...</td>\n",
              "      <td>Area closures and gear restrictions protect ha...</td>\n",
              "      <td>[{'src': 'https://origin-east-01-drupal-fishwa...</td>\n",
              "      <td>&lt;ul&gt;\\n&lt;li&gt;In the Northwest Atlantic, cod range...</td>\n",
              "      <td>None</td>\n",
              "      <td>Greater Atlantic</td>\n",
              "      <td>Significantly below target population levels. ...</td>\n",
              "      <td>&lt;ul&gt;\\n&lt;li&gt;Gulf of Maine stock:\\n&lt;ul&gt;\\n&lt;li&gt;Acco...</td>\n",
              "      <td>Gadus morhua</td>\n",
              "      <td>...</td>\n",
              "      <td>33.1 mcg</td>\n",
              "      <td>100 g</td>\n",
              "      <td>1</td>\n",
              "      <td>54 mg</td>\n",
              "      <td>&lt;p&gt;Wild-caught from Maine to Virginia.&lt;/p&gt;\\n</td>\n",
              "      <td>0 g</td>\n",
              "      <td>&lt;p&gt;Atlantic cod has a mild clean flavor. It is...</td>\n",
              "      <td>&lt;p&gt;Cod has large flakes. It's less firm than h...</td>\n",
              "      <td>/profiles/atlantic-cod</td>\n",
              "      <td>02/17/2022 - 12:56</td>\n",
              "    </tr>\n",
              "  </tbody>\n",
              "</table>\n",
              "<p>116 rows × 56 columns</p>\n",
              "</div>\n",
              "      <button class=\"colab-df-convert\" onclick=\"convertToInteractive('df-8f9908a7-d397-4a3f-8598-741e42377784')\"\n",
              "              title=\"Convert this dataframe to an interactive table.\"\n",
              "              style=\"display:none;\">\n",
              "        \n",
              "  <svg xmlns=\"http://www.w3.org/2000/svg\" height=\"24px\"viewBox=\"0 0 24 24\"\n",
              "       width=\"24px\">\n",
              "    <path d=\"M0 0h24v24H0V0z\" fill=\"none\"/>\n",
              "    <path d=\"M18.56 5.44l.94 2.06.94-2.06 2.06-.94-2.06-.94-.94-2.06-.94 2.06-2.06.94zm-11 1L8.5 8.5l.94-2.06 2.06-.94-2.06-.94L8.5 2.5l-.94 2.06-2.06.94zm10 10l.94 2.06.94-2.06 2.06-.94-2.06-.94-.94-2.06-.94 2.06-2.06.94z\"/><path d=\"M17.41 7.96l-1.37-1.37c-.4-.4-.92-.59-1.43-.59-.52 0-1.04.2-1.43.59L10.3 9.45l-7.72 7.72c-.78.78-.78 2.05 0 2.83L4 21.41c.39.39.9.59 1.41.59.51 0 1.02-.2 1.41-.59l7.78-7.78 2.81-2.81c.8-.78.8-2.07 0-2.86zM5.41 20L4 18.59l7.72-7.72 1.47 1.35L5.41 20z\"/>\n",
              "  </svg>\n",
              "      </button>\n",
              "      \n",
              "  <style>\n",
              "    .colab-df-container {\n",
              "      display:flex;\n",
              "      flex-wrap:wrap;\n",
              "      gap: 12px;\n",
              "    }\n",
              "\n",
              "    .colab-df-convert {\n",
              "      background-color: #E8F0FE;\n",
              "      border: none;\n",
              "      border-radius: 50%;\n",
              "      cursor: pointer;\n",
              "      display: none;\n",
              "      fill: #1967D2;\n",
              "      height: 32px;\n",
              "      padding: 0 0 0 0;\n",
              "      width: 32px;\n",
              "    }\n",
              "\n",
              "    .colab-df-convert:hover {\n",
              "      background-color: #E2EBFA;\n",
              "      box-shadow: 0px 1px 2px rgba(60, 64, 67, 0.3), 0px 1px 3px 1px rgba(60, 64, 67, 0.15);\n",
              "      fill: #174EA6;\n",
              "    }\n",
              "\n",
              "    [theme=dark] .colab-df-convert {\n",
              "      background-color: #3B4455;\n",
              "      fill: #D2E3FC;\n",
              "    }\n",
              "\n",
              "    [theme=dark] .colab-df-convert:hover {\n",
              "      background-color: #434B5C;\n",
              "      box-shadow: 0px 1px 3px 1px rgba(0, 0, 0, 0.15);\n",
              "      filter: drop-shadow(0px 1px 2px rgba(0, 0, 0, 0.3));\n",
              "      fill: #FFFFFF;\n",
              "    }\n",
              "  </style>\n",
              "\n",
              "      <script>\n",
              "        const buttonEl =\n",
              "          document.querySelector('#df-8f9908a7-d397-4a3f-8598-741e42377784 button.colab-df-convert');\n",
              "        buttonEl.style.display =\n",
              "          google.colab.kernel.accessAllowed ? 'block' : 'none';\n",
              "\n",
              "        async function convertToInteractive(key) {\n",
              "          const element = document.querySelector('#df-8f9908a7-d397-4a3f-8598-741e42377784');\n",
              "          const dataTable =\n",
              "            await google.colab.kernel.invokeFunction('convertToInteractive',\n",
              "                                                     [key], {});\n",
              "          if (!dataTable) return;\n",
              "\n",
              "          const docLinkHtml = 'Like what you see? Visit the ' +\n",
              "            '<a target=\"_blank\" href=https://colab.research.google.com/notebooks/data_table.ipynb>data table notebook</a>'\n",
              "            + ' to learn more about interactive tables.';\n",
              "          element.innerHTML = '';\n",
              "          dataTable['output_type'] = 'display_data';\n",
              "          await google.colab.output.renderOutput(dataTable, element);\n",
              "          const docLink = document.createElement('div');\n",
              "          docLink.innerHTML = docLinkHtml;\n",
              "          element.appendChild(docLink);\n",
              "        }\n",
              "      </script>\n",
              "    </div>\n",
              "  </div>\n",
              "  "
            ]
          },
          "metadata": {},
          "execution_count": 76
        }
      ]
    }
  ]
}